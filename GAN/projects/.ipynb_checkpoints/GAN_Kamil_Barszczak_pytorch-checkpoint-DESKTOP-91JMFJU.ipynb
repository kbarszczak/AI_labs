{
 "cells": [
  {
   "cell_type": "markdown",
   "id": "6ce4933e",
   "metadata": {},
   "source": [
    "# Generative Adversarial Network (GAN) - Lab\n",
    "#### Author: Kamil Barszczak"
   ]
  },
  {
   "cell_type": "code",
   "execution_count": 14,
   "id": "704750e5",
   "metadata": {},
   "outputs": [],
   "source": [
    "import matplotlib.pyplot as plt\n",
    "import pandas as pd\n",
    "import numpy as np\n",
    "import torch\n",
    "import glob\n",
    "import cv2\n",
    "import os\n",
    "\n",
    "from torch.utils import data\n",
    "from tqdm import tqdm"
   ]
  },
  {
   "cell_type": "markdown",
   "id": "9fbf1cff",
   "metadata": {},
   "source": [
    "#### Notebook parameters"
   ]
  },
  {
   "cell_type": "code",
   "execution_count": 19,
   "id": "d72f60bb",
   "metadata": {},
   "outputs": [],
   "source": [
    "dataset_path = 'E:/Data/CUB_200_2011'\n",
    "train_test_split = 0.9\n",
    "width, height = 64, 64\n",
    "latent_dim = 64\n",
    "batch = 64\n",
    "ngpu = 1"
   ]
  },
  {
   "cell_type": "markdown",
   "id": "18b27512",
   "metadata": {},
   "source": [
    "#### Set up device"
   ]
  },
  {
   "cell_type": "code",
   "execution_count": 20,
   "id": "9b85c458",
   "metadata": {},
   "outputs": [],
   "source": [
    "device = torch.device(\"cuda:0\" if (torch.cuda.is_available() and ngpu > 0) else \"cpu\")"
   ]
  },
  {
   "cell_type": "markdown",
   "id": "e9296cb8",
   "metadata": {},
   "source": [
    "#### Load and process data"
   ]
  },
  {
   "cell_type": "code",
   "execution_count": 16,
   "id": "ac7ad1e5",
   "metadata": {},
   "outputs": [
    {
     "name": "stderr",
     "output_type": "stream",
     "text": [
      "11788it [01:07, 174.17it/s]\n"
     ]
    }
   ],
   "source": [
    "bboxes = pd.read_csv(os.path.join(dataset_path, 'bounding_boxes.txt'), sep = \" \", names=[\"id\", \"x\", \"y\", \"width\", \"height\"]).astype(int)\n",
    "annotations = pd.read_csv(os.path.join(dataset_path, 'images.txt'), sep = \" \", names=[\"id\", \"path\"])\n",
    "\n",
    "processed = []\n",
    "for index, row in tqdm(annotations.iterrows()):\n",
    "    image_id = row.id\n",
    "    image_path = row.path\n",
    "    bbox  = bboxes[bboxes.id == image_id].iloc[0]\n",
    "    \n",
    "    img = cv2.imread(os.path.join(dataset_path, \"images\", image_path))\n",
    "    img = cv2.cvtColor(img, cv2.COLOR_BGR2RGB)\n",
    "    img = img[bbox.y:bbox.y + bbox.height, bbox.x:bbox.x + bbox.width, :]\n",
    "    img = cv2.resize(img, (width, height))\n",
    "    img = img.astype('float32') / 127.5 - 1\n",
    "    \n",
    "    processed.append(img)"
   ]
  },
  {
   "cell_type": "code",
   "execution_count": 17,
   "id": "a99faa96",
   "metadata": {},
   "outputs": [
    {
     "name": "stdout",
     "output_type": "stream",
     "text": [
      "Train dataloader size: 166\n",
      "Test dataloader size: 19\n"
     ]
    }
   ],
   "source": [
    "processed = np.array(processed)\n",
    "np.random.shuffle(processed)\n",
    "split = int(len(processed) * train_test_split)\n",
    "\n",
    "train_dataloader = data.DataLoader(\n",
    "    data.TensorDataset(torch.Tensor(processed[:split])),\n",
    "    batch_size=batch,\n",
    "    shuffle=True\n",
    ")\n",
    "\n",
    "test_dataloader = data.DataLoader(\n",
    "    data.TensorDataset(torch.Tensor(processed[split:])),\n",
    "    batch_size=batch\n",
    ")\n",
    "\n",
    "print(\"Train dataloader size:\", len(train_dataloader))\n",
    "print(\"Test dataloader size:\", len(test_dataloader))"
   ]
  },
  {
   "cell_type": "code",
   "execution_count": null,
   "id": "15ce5abe",
   "metadata": {},
   "outputs": [],
   "source": []
  },
  {
   "cell_type": "code",
   "execution_count": null,
   "id": "659961e2",
   "metadata": {},
   "outputs": [],
   "source": []
  }
 ],
 "metadata": {
  "kernelspec": {
   "display_name": "Python 3.9.15_2 (pytorch)",
   "language": "python",
   "name": "python3"
  },
  "language_info": {
   "codemirror_mode": {
    "name": "ipython",
    "version": 3
   },
   "file_extension": ".py",
   "mimetype": "text/x-python",
   "name": "python",
   "nbconvert_exporter": "python",
   "pygments_lexer": "ipython3",
   "version": "3.10.10"
  }
 },
 "nbformat": 4,
 "nbformat_minor": 5
}
