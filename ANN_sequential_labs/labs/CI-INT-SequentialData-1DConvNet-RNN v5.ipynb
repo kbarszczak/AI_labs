{
 "cells": [
  {
   "cell_type": "markdown",
   "metadata": {},
   "source": [
    "<table>\n",
    "<tr>    \n",
    "<td>\n",
    "<img src=\"http://home.agh.edu.pl/~horzyk/im/AdrianHorzyk140h.png\" alt=\"Adrian Horzyk, Professor\" title=\"Adrian Horzyk, Professor\" />        \n",
    "</td> \n",
    "<td style=\"text-align: center\">\n",
    "<h1>Sequential data training using<br />1D ConvNet and Recurrent Neural Networks</h1>\n",
    "<h2><a href=\"http://home.agh.edu.pl/~horzyk/index-eng.php\">Adrian Horzyk</a></h2>\n",
    "<h3>Welcome to the interactive lecture where you can check everything by yourself and experiment!</h3>\n",
    "</td> \n",
    "</tr>\n",
    "</table>"
   ]
  },
  {
   "cell_type": "markdown",
   "metadata": {},
   "source": [
    "# Sequence Processing with 1D Convnets\n",
    "\n",
    "Sequencial data are usually processed using recurrent neural networks (RNNs) of various kinds (e.g. GRU or LSTM), transformers (e.g. BERT) or using deep reinforcement learning (DRL), but sometimes we can also use 1D convnets when the data sequence is not so essencial as the occurrence of the elements or the resolution of sequental data is too high. One of such problems is the IMDB sentiment classification task where the positive or negative classification depends more on the used words in the sentences than on the sequential relationships."
   ]
  },
  {
   "cell_type": "code",
   "execution_count": 1,
   "metadata": {},
   "outputs": [],
   "source": [
    "#Install necessary libraries if necessary\n",
    "#!python -m pip install tensorflow==2.10\n",
    "#!python -m pip install keras==2.10\n",
    "#!python -m pip install matplotlib\n",
    "#!python -m pip install numpy\n",
    "#!python -m pip install seaborn\n",
    "#!python -m pip install pandas\n",
    "#!python -m pip install cv2\n",
    "#!python -m pip install scikit-learn\n",
    "#!python -m pip install scikitplot"
   ]
  },
  {
   "cell_type": "code",
   "execution_count": 1,
   "metadata": {},
   "outputs": [
    {
     "name": "stdout",
     "output_type": "stream",
     "text": [
      "TensorFlow version: 2.8.1\n",
      "Keras version: 2.8.0\n"
     ]
    }
   ],
   "source": [
    "import tensorflow as tf\n",
    "import keras\n",
    "print (\"TensorFlow version: \" + tf.__version__)\n",
    "print (\"Keras version: \" + keras.__version__)"
   ]
  },
  {
   "cell_type": "code",
   "execution_count": 3,
   "metadata": {},
   "outputs": [],
   "source": [
    "# pip install tensorflow-gpu\n",
    "# https://www.tensorflow.org/guide/gpu\n",
    "#gpus = tf.config.list_physical_devices('GPU')\n",
    "#if gpus:\n",
    "  # Restrict TensorFlow to only use the first GPU\n",
    "#  try:\n",
    "#    tf.config.experimental.set_visible_devices(gpus[0], 'GPU')\n",
    "#    logical_gpus = tf.config.experimental.list_logical_devices('GPU')\n",
    "#    print(len(gpus), \"Physical GPUs,\", len(logical_gpus), \"Logical GPU\")\n",
    "#  except RuntimeError as e:\n",
    "    # Visible devices must be set before GPUs have been initialized\n",
    "#    print(e)\n",
    "\n",
    "#tf.device(\"/gpu:0\")\n",
    "#tf.config.list_physical_devices('GPU')\n",
    "#tf.test.is_gpu_available()"
   ]
  },
  {
   "cell_type": "markdown",
   "metadata": {},
   "source": [
    "## Set up the model directory for saving the trained models"
   ]
  },
  {
   "cell_type": "code",
   "execution_count": 3,
   "metadata": {},
   "outputs": [],
   "source": [
    "import os\n",
    "\n",
    "# The path to store trained models\n",
    "models_dir = 'E:/OneDrive - Akademia Górniczo-Hutnicza im. Stanisława Staszica w Krakowie/Programming/Data/nlp/model'\n",
    "if not os.path.exists(models_dir):\n",
    "    os.mkdir(models_dir)"
   ]
  },
  {
   "cell_type": "markdown",
   "metadata": {},
   "source": [
    "## Definition of plotting functions\n",
    "\n",
    "First, let's define plotting functions that will be used to chart the plots of the achieved results:"
   ]
  },
  {
   "cell_type": "code",
   "execution_count": 4,
   "metadata": {},
   "outputs": [],
   "source": [
    "import matplotlib.pyplot as plt  # library for plotting math functions: https://matplotlib.org/stable/index.html\n",
    "\n",
    "#def plt_inline():\n",
    "#    rc = plt.rcParams.copy()\n",
    "#    %matplotlib inline\n",
    "#    plt.rcParams.update(rc)\n",
    "\n",
    "def PlotAccuracyComparison(acc, val_acc, lab = ''):\n",
    "    plt.clf()   # clear figure\n",
    "    #plt.rcParams['figure.figsize'] = (15.0, 5.0) # set default size of plots\n",
    "    plt.figure(figsize=(15,5))\n",
    "    #plt_inline()\n",
    "    epochs = range(len(acc))\n",
    "    plt.plot(epochs, acc, 'bo', label='Training accuracy for ' + lab)\n",
    "    plt.plot(epochs, val_acc, 'b', label='Validation accuracy for ' + lab)\n",
    "    plt.title('Comparison of Training and Validation Accuracies')\n",
    "    plt.xlabel('Epochs')\n",
    "    plt.ylabel('Accuracy')\n",
    "    plt.legend(['Train ' + lab, 'Test ' + lab], loc='upper left')\n",
    "    plt.show()\n",
    "    \n",
    "def PlotLossComparison(loss, val_loss, lab = ''):\n",
    "    plt.clf()   # clear figure\n",
    "    #plt.rcParams['figure.figsize'] = (15.0, 5.0) # set default size of plots\n",
    "    plt.figure(figsize=(15,5))\n",
    "    #plt_inline()\n",
    "    epochs = range(len(loss))\n",
    "    plt.plot(epochs, loss, 'bo', label='Training loss for ' + lab)\n",
    "    plt.plot(epochs, val_loss, 'b', label='Validation loss for ' + lab)\n",
    "    plt.title('Comparison of Training and Validation Losses')\n",
    "    plt.xlabel('Epochs')\n",
    "    plt.ylabel('Loss')\n",
    "    plt.legend(['Train ' + lab, 'Test ' + lab], loc='upper left')\n",
    "    plt.show()\n",
    "    \n",
    "def PlotTwoAccuracyComparison(acc1, val_acc1, acc2, val_acc2, lab1 = 'Model 1', lab2 = 'Model 2'):\n",
    "    plt.clf()   # clear figure\n",
    "    #plt.rcParams['figure.figsize'] = (15.0, 5.0) # set default size of plots\n",
    "    plt.figure(figsize=(15,5))\n",
    "    #plt_inline()\n",
    "    epochs = range(len(acc1))\n",
    "    plt.plot(epochs, acc1, 'bo', label='Training accuracy for ' + lab1)\n",
    "    plt.plot(epochs, val_acc1, 'b', label='Validation accuracy for ' + lab1)\n",
    "    plt.plot(epochs, acc2, 'ro', label='Training accuracy for ' + lab2)\n",
    "    plt.plot(epochs, val_acc2, 'r', label='Validation accuracy for ' + lab2)\n",
    "    plt.title('Comparison of Training and Validation Accuracies')\n",
    "    plt.xlabel('Epochs')\n",
    "    plt.ylabel('Accuracy')\n",
    "    plt.legend(['Train '+ lab1, 'Test ' + lab1, 'Train '+ lab2, 'Test ' + lab2], loc='upper left')\n",
    "    plt.show()\n",
    "    \n",
    "def PlotTwoLossComparison(loss1, val_loss1, loss2, val_loss2, lab1 = 'Model 1', lab2 = 'Model 2'):\n",
    "    plt.clf()   # clear figure\n",
    "    #plt.rcParams['figure.figsize'] = (15.0, 5.0) # set default size of plots\n",
    "    plt.figure(figsize=(15,5))\n",
    "    #plt_inline()\n",
    "    epochs = range(len(loss1))\n",
    "    plt.plot(epochs, loss1, 'bo', label='Training loss for ' + lab1)\n",
    "    plt.plot(epochs, val_loss1, 'b', label='Validation loss for ' + lab1)\n",
    "    plt.plot(epochs, loss2, 'ro', label='Training loss for ' + lab2)\n",
    "    plt.plot(epochs, val_loss2, 'r', label='Validation loss for ' + lab2)\n",
    "    plt.title('Comparison of Training and Validation Losses')\n",
    "    plt.xlabel('Epochs')\n",
    "    plt.ylabel('Loss')\n",
    "    plt.legend(['Train '+ lab1, 'Test ' + lab1, 'Train '+ lab2, 'Test ' + lab2], loc='upper left')\n",
    "    plt.show()"
   ]
  },
  {
   "cell_type": "markdown",
   "metadata": {},
   "source": [
    "## Implementing a 1D convnet\n",
    "\n",
    "In Keras, we use a 1D convnet via the `Conv1D` layer, which takes as input 3D tensors with shape `(samples, time, features)` and also returns similarly-shaped 3D tensors. The convolution window is a 1D window on the temporal axis, i.e., axis 1 in the input tensor.\n",
    "\n",
    "1D convnets are structured in the same way as their 2D counter-parts and have a very similar interface to `Conv2D`. They consist of a stack of `Conv1D` and `MaxPooling1D` layers, eventually ending in either a global pooling layer (`GlobalMaxPooling1D`) or a `Flatten` layer, turning the 3D outputs into 2D outputs, allowing to add one or more `Dense` layers to the model, for classification or regression.\n",
    "\n",
    "We can afford (taking into account the computing time) to use larger convolution windows with 1D convnets. Indeed, with a 2D convolution layer, a 3x3 convolution window contains 3*3 = 9 feature vectors, while with a 1D convolution layer, a convolution window of size 3 would only contain 3 feature vectors. Thus, we can easily afford 1D convolution windows of size 5, 7, 9, or even more.\n",
    "\n",
    "Let's build a simple 2-layer 1D convnet applied to the IMDB sentiment classification task that we are already familiar with:"
   ]
  },
  {
   "cell_type": "code",
   "execution_count": 5,
   "metadata": {},
   "outputs": [
    {
     "name": "stdout",
     "output_type": "stream",
     "text": [
      "Loading data...\n",
      "25000 train sequences\n",
      "25000 test sequences\n",
      "Pad sequences (samples x time)\n",
      "x_train shape: (25000, 500)\n",
      "x_test shape: (25000, 500)\n"
     ]
    }
   ],
   "source": [
    "from keras.datasets import imdb\n",
    "from keras.preprocessing import sequence\n",
    "from keras_preprocessing.sequence import pad_sequences\n",
    "\n",
    "max_features = 10000  # number of words to consider as features\n",
    "max_len = 500  # cut texts after this number of words (among top max_features most common words)\n",
    "\n",
    "print('Loading data...')\n",
    "(x_train, y_train), (x_test, y_test) = imdb.load_data(num_words=max_features)\n",
    "print(len(x_train), 'train sequences')\n",
    "print(len(x_test), 'test sequences')\n",
    "\n",
    "print('Pad sequences (samples x time)')\n",
    "x_train = pad_sequences(x_train, maxlen=max_len)\n",
    "x_test = pad_sequences(x_test, maxlen=max_len)\n",
    "print('x_train shape:', x_train.shape)\n",
    "print('x_test shape:', x_test.shape)"
   ]
  },
  {
   "cell_type": "markdown",
   "metadata": {},
   "source": [
    "Now, let's define a 1D convnet for the IMDB dataset consisting of 1D convnet layers and a global 1D max-pooling layer and compare how the filter size (3, 5, 7, and 9) influence the training results:"
   ]
  },
  {
   "cell_type": "code",
   "execution_count": 6,
   "metadata": {},
   "outputs": [
    {
     "name": "stdout",
     "output_type": "stream",
     "text": [
      "Model: \"sequential\"\n",
      "_________________________________________________________________\n",
      " Layer (type)                Output Shape              Param #   \n",
      "=================================================================\n",
      " embedding (Embedding)       (None, 500, 128)          1280000   \n",
      "                                                                 \n",
      " conv1d (Conv1D)             (None, 498, 32)           12320     \n",
      "                                                                 \n",
      " max_pooling1d (MaxPooling1D  (None, 166, 32)          0         \n",
      " )                                                               \n",
      "                                                                 \n",
      " conv1d_1 (Conv1D)           (None, 164, 16)           1552      \n",
      "                                                                 \n",
      " global_max_pooling1d (Globa  (None, 16)               0         \n",
      " lMaxPooling1D)                                                  \n",
      "                                                                 \n",
      " dense (Dense)               (None, 4)                 68        \n",
      "                                                                 \n",
      " dense_1 (Dense)             (None, 1)                 5         \n",
      "                                                                 \n",
      "=================================================================\n",
      "Total params: 1,293,945\n",
      "Trainable params: 1,293,945\n",
      "Non-trainable params: 0\n",
      "_________________________________________________________________\n",
      "Epoch 1/20\n",
      "157/157 [==============================] - 5s 18ms/step - loss: 2.1771 - acc: 0.4985 - val_loss: 0.7164 - val_acc: 0.5060\n",
      "Epoch 2/20\n",
      "157/157 [==============================] - 2s 16ms/step - loss: 0.6848 - acc: 0.5582 - val_loss: 0.6812 - val_acc: 0.5670\n",
      "Epoch 3/20\n",
      "157/157 [==============================] - 2s 16ms/step - loss: 0.6580 - acc: 0.6716 - val_loss: 0.6624 - val_acc: 0.6348\n",
      "Epoch 4/20\n",
      "157/157 [==============================] - 2s 16ms/step - loss: 0.6214 - acc: 0.7658 - val_loss: 0.6234 - val_acc: 0.7158\n",
      "Epoch 5/20\n",
      "157/157 [==============================] - 2s 16ms/step - loss: 0.5601 - acc: 0.8111 - val_loss: 0.5512 - val_acc: 0.7602\n",
      "Epoch 6/20\n",
      "157/157 [==============================] - 2s 16ms/step - loss: 0.4846 - acc: 0.8188 - val_loss: 0.5028 - val_acc: 0.7746\n",
      "Epoch 7/20\n",
      "157/157 [==============================] - 2s 16ms/step - loss: 0.4318 - acc: 0.8302 - val_loss: 0.4848 - val_acc: 0.7936\n",
      "Epoch 8/20\n",
      "157/157 [==============================] - 2s 16ms/step - loss: 0.3876 - acc: 0.8412 - val_loss: 0.4612 - val_acc: 0.8106\n",
      "Epoch 9/20\n",
      "157/157 [==============================] - 2s 16ms/step - loss: 0.3539 - acc: 0.8583 - val_loss: 0.4550 - val_acc: 0.8208\n",
      "Epoch 10/20\n",
      "157/157 [==============================] - 2s 16ms/step - loss: 0.3236 - acc: 0.8737 - val_loss: 0.4513 - val_acc: 0.8344\n",
      "Epoch 11/20\n",
      "157/157 [==============================] - 2s 15ms/step - loss: 0.2947 - acc: 0.8878 - val_loss: 0.4366 - val_acc: 0.8406\n",
      "Epoch 12/20\n",
      "157/157 [==============================] - 3s 16ms/step - loss: 0.2712 - acc: 0.9014 - val_loss: 0.4358 - val_acc: 0.8458\n",
      "Epoch 13/20\n",
      "157/157 [==============================] - 2s 16ms/step - loss: 0.2470 - acc: 0.9123 - val_loss: 0.4420 - val_acc: 0.8502\n",
      "Epoch 14/20\n",
      "157/157 [==============================] - 2s 16ms/step - loss: 0.2245 - acc: 0.9223 - val_loss: 0.4443 - val_acc: 0.8514\n",
      "Epoch 15/20\n",
      "157/157 [==============================] - 2s 16ms/step - loss: 0.2033 - acc: 0.9333 - val_loss: 0.4539 - val_acc: 0.8600\n",
      "Epoch 16/20\n",
      "157/157 [==============================] - 2s 16ms/step - loss: 0.1829 - acc: 0.9414 - val_loss: 0.4628 - val_acc: 0.8606\n",
      "Epoch 17/20\n",
      "157/157 [==============================] - 2s 16ms/step - loss: 0.1641 - acc: 0.9507 - val_loss: 0.4637 - val_acc: 0.8654\n",
      "Epoch 18/20\n",
      "157/157 [==============================] - 3s 16ms/step - loss: 0.1461 - acc: 0.9582 - val_loss: 0.4781 - val_acc: 0.8674\n",
      "Epoch 19/20\n",
      "157/157 [==============================] - 2s 16ms/step - loss: 0.1302 - acc: 0.9646 - val_loss: 0.4759 - val_acc: 0.8666\n",
      "Epoch 20/20\n",
      "157/157 [==============================] - 3s 16ms/step - loss: 0.1149 - acc: 0.9708 - val_loss: 0.5134 - val_acc: 0.8646\n"
     ]
    }
   ],
   "source": [
    "from keras.models import Sequential\n",
    "from keras import layers\n",
    "from tensorflow.keras.optimizers import RMSprop\n",
    "\n",
    "modelIMDBf3 = Sequential()\n",
    "modelIMDBf3.add(layers.Embedding(max_features, 128, input_length=max_len))\n",
    "modelIMDBf3.add(layers.Conv1D(32, 3, activation='relu'))\n",
    "modelIMDBf3.add(layers.MaxPooling1D(3))\n",
    "modelIMDBf3.add(layers.Conv1D(16, 3, activation='relu'))\n",
    "modelIMDBf3.add(layers.GlobalMaxPooling1D())\n",
    "modelIMDBf3.add(layers.Dense(4))\n",
    "modelIMDBf3.add(layers.Dense(1))\n",
    "\n",
    "modelIMDBf3.summary()\n",
    "\n",
    "modelIMDBf3.compile(optimizer=RMSprop(learning_rate=1e-4),\n",
    "                                loss='binary_crossentropy',\n",
    "                                metrics=['acc'])\n",
    "historyIMDBf3 = modelIMDBf3.fit(x_train, y_train,\n",
    "                                epochs=20,\n",
    "                                batch_size=128,\n",
    "                                validation_split=0.2)"
   ]
  },
  {
   "cell_type": "code",
   "execution_count": 7,
   "metadata": {},
   "outputs": [
    {
     "data": {
      "text/plain": [
       "<Figure size 432x288 with 0 Axes>"
      ]
     },
     "metadata": {},
     "output_type": "display_data"
    },
    {
     "data": {
      "image/png": "[encoded data removed]",
      "text/plain": [
       "<Figure size 1080x360 with 1 Axes>"
      ]
     },
     "metadata": {
      "needs_background": "light"
     },
     "output_type": "display_data"
    },
    {
     "data": {
      "text/plain": [
       "<Figure size 432x288 with 0 Axes>"
      ]
     },
     "metadata": {},
     "output_type": "display_data"
    },
    {
     "data": {
      "image/png": "[encoded data removed]",
      "text/plain": [
       "<Figure size 1080x360 with 1 Axes>"
      ]
     },
     "metadata": {
      "needs_background": "light"
     },
     "output_type": "display_data"
    }
   ],
   "source": [
    "accIMDBf3 = historyIMDBf3.history['acc']\n",
    "val_accIMDBf3 = historyIMDBf3.history['val_acc']\n",
    "lossIMDBf3 = historyIMDBf3.history['loss']\n",
    "val_lossIMDBf3 = historyIMDBf3.history['val_loss']\n",
    "\n",
    "PlotAccuracyComparison(accIMDBf3, val_accIMDBf3, lab = 'IMDBf3')\n",
    "PlotLossComparison(lossIMDBf3, val_lossIMDBf3, lab = 'IMDBf3')"
   ]
  },
  {
   "cell_type": "code",
   "execution_count": 8,
   "metadata": {},
   "outputs": [
    {
     "name": "stdout",
     "output_type": "stream",
     "text": [
      "Model: \"sequential_1\"\n",
      "_________________________________________________________________\n",
      " Layer (type)                Output Shape              Param #   \n",
      "=================================================================\n",
      " embedding_1 (Embedding)     (None, 500, 128)          1280000   \n",
      "                                                                 \n",
      " conv1d_2 (Conv1D)           (None, 496, 32)           20512     \n",
      "                                                                 \n",
      " max_pooling1d_1 (MaxPooling  (None, 165, 32)          0         \n",
      " 1D)                                                             \n",
      "                                                                 \n",
      " conv1d_3 (Conv1D)           (None, 161, 16)           2576      \n",
      "                                                                 \n",
      " global_max_pooling1d_1 (Glo  (None, 16)               0         \n",
      " balMaxPooling1D)                                                \n",
      "                                                                 \n",
      " dense_2 (Dense)             (None, 4)                 68        \n",
      "                                                                 \n",
      " dense_3 (Dense)             (None, 1)                 5         \n",
      "                                                                 \n",
      "=================================================================\n",
      "Total params: 1,303,161\n",
      "Trainable params: 1,303,161\n",
      "Non-trainable params: 0\n",
      "_________________________________________________________________\n",
      "Epoch 1/20\n",
      "157/157 [==============================] - 4s 19ms/step - loss: 0.7388 - acc: 0.5136 - val_loss: 0.6872 - val_acc: 0.5504\n",
      "Epoch 2/20\n",
      "157/157 [==============================] - 3s 18ms/step - loss: 0.6643 - acc: 0.6658 - val_loss: 0.6751 - val_acc: 0.6096\n",
      "Epoch 3/20\n",
      "157/157 [==============================] - 3s 17ms/step - loss: 0.6316 - acc: 0.7853 - val_loss: 0.6602 - val_acc: 0.6148\n",
      "Epoch 4/20\n",
      "157/157 [==============================] - 3s 17ms/step - loss: 0.5917 - acc: 0.8515 - val_loss: 0.6233 - val_acc: 0.7302\n",
      "Epoch 5/20\n",
      "157/157 [==============================] - 3s 17ms/step - loss: 0.5317 - acc: 0.8730 - val_loss: 0.5589 - val_acc: 0.7592\n",
      "Epoch 6/20\n",
      "157/157 [==============================] - 3s 17ms/step - loss: 0.4471 - acc: 0.8731 - val_loss: 0.4782 - val_acc: 0.8076\n",
      "Epoch 7/20\n",
      "157/157 [==============================] - 3s 18ms/step - loss: 0.3662 - acc: 0.8837 - val_loss: 0.4308 - val_acc: 0.8252\n",
      "Epoch 8/20\n",
      "157/157 [==============================] - 3s 17ms/step - loss: 0.3040 - acc: 0.9000 - val_loss: 0.4096 - val_acc: 0.8412\n",
      "Epoch 9/20\n",
      "157/157 [==============================] - 3s 17ms/step - loss: 0.2571 - acc: 0.9166 - val_loss: 0.4171 - val_acc: 0.8392\n",
      "Epoch 10/20\n",
      "157/157 [==============================] - 3s 21ms/step - loss: 0.2198 - acc: 0.9291 - val_loss: 0.4208 - val_acc: 0.8576\n",
      "Epoch 11/20\n",
      "157/157 [==============================] - 3s 19ms/step - loss: 0.1881 - acc: 0.9411 - val_loss: 0.3997 - val_acc: 0.8644\n",
      "Epoch 12/20\n",
      "157/157 [==============================] - 3s 17ms/step - loss: 0.1593 - acc: 0.9526 - val_loss: 0.4184 - val_acc: 0.8644\n",
      "Epoch 13/20\n",
      "157/157 [==============================] - 3s 17ms/step - loss: 0.1355 - acc: 0.9613 - val_loss: 0.4272 - val_acc: 0.8680\n",
      "Epoch 14/20\n",
      "157/157 [==============================] - 3s 17ms/step - loss: 0.1134 - acc: 0.9704 - val_loss: 0.4426 - val_acc: 0.8690\n",
      "Epoch 15/20\n",
      "157/157 [==============================] - 3s 17ms/step - loss: 0.0949 - acc: 0.9772 - val_loss: 0.4426 - val_acc: 0.8680\n",
      "Epoch 16/20\n",
      "157/157 [==============================] - 3s 17ms/step - loss: 0.0780 - acc: 0.9839 - val_loss: 0.4536 - val_acc: 0.8682\n",
      "Epoch 17/20\n",
      "157/157 [==============================] - 3s 17ms/step - loss: 0.0636 - acc: 0.9894 - val_loss: 0.4644 - val_acc: 0.8652\n",
      "Epoch 18/20\n",
      "157/157 [==============================] - 3s 17ms/step - loss: 0.0516 - acc: 0.9926 - val_loss: 0.4844 - val_acc: 0.8656\n",
      "Epoch 19/20\n",
      "157/157 [==============================] - 3s 18ms/step - loss: 0.0417 - acc: 0.9958 - val_loss: 0.5630 - val_acc: 0.8596\n",
      "Epoch 20/20\n",
      "157/157 [==============================] - 3s 18ms/step - loss: 0.0337 - acc: 0.9975 - val_loss: 0.5153 - val_acc: 0.8620\n"
     ]
    }
   ],
   "source": [
    "modelIMDBf5 = Sequential()\n",
    "modelIMDBf5.add(layers.Embedding(max_features, 128, input_length=max_len))\n",
    "modelIMDBf5.add(layers.Conv1D(32, 5, activation='relu'))\n",
    "modelIMDBf5.add(layers.MaxPooling1D(3))\n",
    "modelIMDBf5.add(layers.Conv1D(16, 5, activation='relu'))\n",
    "modelIMDBf5.add(layers.GlobalMaxPooling1D())\n",
    "modelIMDBf5.add(layers.Dense(4))\n",
    "modelIMDBf5.add(layers.Dense(1))\n",
    "\n",
    "modelIMDBf5.summary()\n",
    "\n",
    "modelIMDBf5.compile(optimizer=RMSprop(learning_rate=1e-4),\n",
    "                                loss='binary_crossentropy',\n",
    "                                metrics=['acc'])\n",
    "historyIMDBf5 = modelIMDBf5.fit(x_train, y_train,\n",
    "                                epochs=20,\n",
    "                                batch_size=128,\n",
    "                                validation_split=0.2)"
   ]
  },
  {
   "cell_type": "code",
   "execution_count": 9,
   "metadata": {},
   "outputs": [
    {
     "data": {
      "text/plain": [
       "<Figure size 432x288 with 0 Axes>"
      ]
     },
     "metadata": {},
     "output_type": "display_data"
    },
    {
     "data": {
      "image/png": "[encoded data removed]",
      "text/plain": [
       "<Figure size 1080x360 with 1 Axes>"
      ]
     },
     "metadata": {
      "needs_background": "light"
     },
     "output_type": "display_data"
    },
    {
     "data": {
      "text/plain": [
       "<Figure size 432x288 with 0 Axes>"
      ]
     },
     "metadata": {},
     "output_type": "display_data"
    },
    {
     "data": {
      "image/png": "[encoded data removed]",
      "text/plain": [
       "<Figure size 1080x360 with 1 Axes>"
      ]
     },
     "metadata": {
      "needs_background": "light"
     },
     "output_type": "display_data"
    }
   ],
   "source": [
    "accIMDBf5 = historyIMDBf5.history['acc']\n",
    "val_accIMDBf5 = historyIMDBf5.history['val_acc']\n",
    "lossIMDBf5 = historyIMDBf5.history['loss']\n",
    "val_lossIMDBf5 = historyIMDBf5.history['val_loss']\n",
    "\n",
    "PlotAccuracyComparison(accIMDBf5, val_accIMDBf5, lab = 'IMDBf5')\n",
    "PlotLossComparison(lossIMDBf5, val_lossIMDBf5, lab = 'IMDBf5')"
   ]
  },
  {
   "cell_type": "code",
   "execution_count": 10,
   "metadata": {},
   "outputs": [
    {
     "name": "stdout",
     "output_type": "stream",
     "text": [
      "Model: \"sequential_2\"\n",
      "_________________________________________________________________\n",
      " Layer (type)                Output Shape              Param #   \n",
      "=================================================================\n",
      " embedding_2 (Embedding)     (None, 500, 128)          1280000   \n",
      "                                                                 \n",
      " conv1d_4 (Conv1D)           (None, 494, 32)           28704     \n",
      "                                                                 \n",
      " max_pooling1d_2 (MaxPooling  (None, 164, 32)          0         \n",
      " 1D)                                                             \n",
      "                                                                 \n",
      " conv1d_5 (Conv1D)           (None, 158, 16)           3600      \n",
      "                                                                 \n",
      " global_max_pooling1d_2 (Glo  (None, 16)               0         \n",
      " balMaxPooling1D)                                                \n",
      "                                                                 \n",
      " dense_4 (Dense)             (None, 4)                 68        \n",
      "                                                                 \n",
      " dense_5 (Dense)             (None, 1)                 5         \n",
      "                                                                 \n",
      "=================================================================\n",
      "Total params: 1,312,377\n",
      "Trainable params: 1,312,377\n",
      "Non-trainable params: 0\n",
      "_________________________________________________________________\n",
      "Epoch 1/20\n",
      "157/157 [==============================] - 4s 21ms/step - loss: 7.7364 - acc: 0.4985 - val_loss: 7.6168 - val_acc: 0.5062\n",
      "Epoch 2/20\n",
      "157/157 [==============================] - 3s 19ms/step - loss: 7.7364 - acc: 0.4985 - val_loss: 7.6168 - val_acc: 0.5062\n",
      "Epoch 3/20\n",
      "157/157 [==============================] - 3s 18ms/step - loss: 7.7364 - acc: 0.4985 - val_loss: 7.6168 - val_acc: 0.5062\n",
      "Epoch 4/20\n",
      "157/157 [==============================] - 3s 18ms/step - loss: 7.7364 - acc: 0.4985 - val_loss: 7.6168 - val_acc: 0.5062\n",
      "Epoch 5/20\n",
      "157/157 [==============================] - 3s 18ms/step - loss: 7.7364 - acc: 0.4985 - val_loss: 7.6168 - val_acc: 0.5062\n",
      "Epoch 6/20\n",
      "157/157 [==============================] - 3s 18ms/step - loss: 7.7364 - acc: 0.4985 - val_loss: 7.6168 - val_acc: 0.5062\n",
      "Epoch 7/20\n",
      "157/157 [==============================] - 3s 18ms/step - loss: 7.7364 - acc: 0.4985 - val_loss: 7.6168 - val_acc: 0.5062\n",
      "Epoch 8/20\n",
      "157/157 [==============================] - 3s 18ms/step - loss: 7.7364 - acc: 0.4985 - val_loss: 7.6168 - val_acc: 0.5062\n",
      "Epoch 9/20\n",
      "157/157 [==============================] - 3s 18ms/step - loss: 7.7364 - acc: 0.4985 - val_loss: 7.6168 - val_acc: 0.5062\n",
      "Epoch 10/20\n",
      "157/157 [==============================] - 3s 18ms/step - loss: 7.7364 - acc: 0.4985 - val_loss: 7.6168 - val_acc: 0.5062\n",
      "Epoch 11/20\n",
      "157/157 [==============================] - 3s 18ms/step - loss: 7.7364 - acc: 0.4985 - val_loss: 7.6168 - val_acc: 0.5062\n",
      "Epoch 12/20\n",
      "157/157 [==============================] - 3s 18ms/step - loss: 7.7364 - acc: 0.4985 - val_loss: 7.6168 - val_acc: 0.5062\n",
      "Epoch 13/20\n",
      "157/157 [==============================] - 3s 18ms/step - loss: 7.7364 - acc: 0.4985 - val_loss: 7.6168 - val_acc: 0.5062\n",
      "Epoch 14/20\n",
      "157/157 [==============================] - 3s 18ms/step - loss: 7.7364 - acc: 0.4985 - val_loss: 7.6168 - val_acc: 0.5062\n",
      "Epoch 15/20\n",
      "157/157 [==============================] - 3s 18ms/step - loss: 7.7364 - acc: 0.4985 - val_loss: 7.6168 - val_acc: 0.5062\n",
      "Epoch 16/20\n",
      "157/157 [==============================] - 3s 18ms/step - loss: 7.7364 - acc: 0.4985 - val_loss: 7.6168 - val_acc: 0.5062\n",
      "Epoch 17/20\n",
      "157/157 [==============================] - 3s 19ms/step - loss: 7.7364 - acc: 0.4985 - val_loss: 7.6168 - val_acc: 0.5062\n",
      "Epoch 18/20\n",
      "157/157 [==============================] - 3s 19ms/step - loss: 7.7364 - acc: 0.4985 - val_loss: 7.6168 - val_acc: 0.5062\n",
      "Epoch 19/20\n",
      "157/157 [==============================] - 3s 18ms/step - loss: 7.7364 - acc: 0.4985 - val_loss: 7.6168 - val_acc: 0.5062\n",
      "Epoch 20/20\n",
      "157/157 [==============================] - 3s 18ms/step - loss: 7.7364 - acc: 0.4985 - val_loss: 7.6168 - val_acc: 0.5062\n"
     ]
    }
   ],
   "source": [
    "modelIMDBf7 = Sequential()\n",
    "modelIMDBf7.add(layers.Embedding(max_features, 128, input_length=max_len))\n",
    "modelIMDBf7.add(layers.Conv1D(32, 7, activation='relu'))\n",
    "modelIMDBf7.add(layers.MaxPooling1D(3))\n",
    "modelIMDBf7.add(layers.Conv1D(16, 7, activation='relu'))\n",
    "modelIMDBf7.add(layers.GlobalMaxPooling1D())\n",
    "modelIMDBf7.add(layers.Dense(4))\n",
    "modelIMDBf7.add(layers.Dense(1))\n",
    "\n",
    "modelIMDBf7.summary()\n",
    "\n",
    "modelIMDBf7.compile(optimizer=RMSprop(learning_rate=1e-4),\n",
    "                                loss='binary_crossentropy',\n",
    "                                metrics=['acc'])\n",
    "historyIMDBf7 = modelIMDBf7.fit(x_train, y_train,\n",
    "                                epochs=20,\n",
    "                                batch_size=128,\n",
    "                                validation_split=0.2)"
   ]
  },
  {
   "cell_type": "code",
   "execution_count": 11,
   "metadata": {},
   "outputs": [
    {
     "data": {
      "text/plain": [
       "<Figure size 432x288 with 0 Axes>"
      ]
     },
     "metadata": {},
     "output_type": "display_data"
    },
    {
     "data": {
      "image/png": "[encoded data removed]",
      "text/plain": [
       "<Figure size 1080x360 with 1 Axes>"
      ]
     },
     "metadata": {
      "needs_background": "light"
     },
     "output_type": "display_data"
    },
    {
     "data": {
      "text/plain": [
       "<Figure size 432x288 with 0 Axes>"
      ]
     },
     "metadata": {},
     "output_type": "display_data"
    },
    {
     "data": {
      "image/png": "[encoded data removed]",
      "text/plain": [
       "<Figure size 1080x360 with 1 Axes>"
      ]
     },
     "metadata": {
      "needs_background": "light"
     },
     "output_type": "display_data"
    }
   ],
   "source": [
    "accIMDBf7 = historyIMDBf7.history['acc']\n",
    "val_accIMDBf7 = historyIMDBf7.history['val_acc']\n",
    "lossIMDBf7 = historyIMDBf7.history['loss']\n",
    "val_lossIMDBf7 = historyIMDBf7.history['val_loss']\n",
    "\n",
    "PlotAccuracyComparison(accIMDBf7, val_accIMDBf7, lab = 'IMDBf7')\n",
    "PlotLossComparison(lossIMDBf7, val_lossIMDBf7, lab = 'IMDBf7')"
   ]
  },
  {
   "cell_type": "code",
   "execution_count": 12,
   "metadata": {},
   "outputs": [
    {
     "name": "stdout",
     "output_type": "stream",
     "text": [
      "Model: \"sequential_3\"\n",
      "_________________________________________________________________\n",
      " Layer (type)                Output Shape              Param #   \n",
      "=================================================================\n",
      " embedding_3 (Embedding)     (None, 500, 128)          1280000   \n",
      "                                                                 \n",
      " conv1d_6 (Conv1D)           (None, 492, 32)           36896     \n",
      "                                                                 \n",
      " max_pooling1d_3 (MaxPooling  (None, 164, 32)          0         \n",
      " 1D)                                                             \n",
      "                                                                 \n",
      " conv1d_7 (Conv1D)           (None, 156, 16)           4624      \n",
      "                                                                 \n",
      " global_max_pooling1d_3 (Glo  (None, 16)               0         \n",
      " balMaxPooling1D)                                                \n",
      "                                                                 \n",
      " dense_6 (Dense)             (None, 4)                 68        \n",
      "                                                                 \n",
      " dense_7 (Dense)             (None, 1)                 5         \n",
      "                                                                 \n",
      "=================================================================\n",
      "Total params: 1,321,593\n",
      "Trainable params: 1,321,593\n",
      "Non-trainable params: 0\n",
      "_________________________________________________________________\n",
      "Epoch 1/20\n",
      "157/157 [==============================] - 4s 21ms/step - loss: 0.7089 - acc: 0.5357 - val_loss: 0.6849 - val_acc: 0.5394\n",
      "Epoch 2/20\n",
      "157/157 [==============================] - 3s 20ms/step - loss: 0.6410 - acc: 0.7104 - val_loss: 0.6404 - val_acc: 0.6866\n",
      "Epoch 3/20\n",
      "157/157 [==============================] - 3s 19ms/step - loss: 0.5632 - acc: 0.8073 - val_loss: 0.5515 - val_acc: 0.7740\n",
      "Epoch 4/20\n",
      "157/157 [==============================] - 3s 19ms/step - loss: 0.4407 - acc: 0.8500 - val_loss: 0.4432 - val_acc: 0.8248\n",
      "Epoch 5/20\n",
      "157/157 [==============================] - 3s 19ms/step - loss: 0.3409 - acc: 0.8813 - val_loss: 0.4063 - val_acc: 0.8390\n",
      "Epoch 6/20\n",
      "157/157 [==============================] - 3s 20ms/step - loss: 0.2809 - acc: 0.9026 - val_loss: 0.4079 - val_acc: 0.8510\n",
      "Epoch 7/20\n",
      "157/157 [==============================] - 3s 20ms/step - loss: 0.2405 - acc: 0.9187 - val_loss: 0.3950 - val_acc: 0.8652\n",
      "Epoch 8/20\n",
      "157/157 [==============================] - 3s 19ms/step - loss: 0.2047 - acc: 0.9329 - val_loss: 0.4044 - val_acc: 0.8726\n",
      "Epoch 9/20\n",
      "157/157 [==============================] - 3s 19ms/step - loss: 0.1735 - acc: 0.9431 - val_loss: 0.4205 - val_acc: 0.8712\n",
      "Epoch 10/20\n",
      "157/157 [==============================] - 3s 20ms/step - loss: 0.1496 - acc: 0.9541 - val_loss: 0.4468 - val_acc: 0.8708\n",
      "Epoch 11/20\n",
      "157/157 [==============================] - 3s 19ms/step - loss: 0.1284 - acc: 0.9641 - val_loss: 0.4435 - val_acc: 0.8746\n",
      "Epoch 12/20\n",
      "157/157 [==============================] - 3s 20ms/step - loss: 0.1079 - acc: 0.9737 - val_loss: 0.4597 - val_acc: 0.8730\n",
      "Epoch 13/20\n",
      "157/157 [==============================] - 3s 19ms/step - loss: 0.0914 - acc: 0.9808 - val_loss: 0.5288 - val_acc: 0.8676\n",
      "Epoch 14/20\n",
      "157/157 [==============================] - 3s 19ms/step - loss: 0.0766 - acc: 0.9865 - val_loss: 0.5083 - val_acc: 0.8714\n",
      "Epoch 15/20\n",
      "157/157 [==============================] - 3s 20ms/step - loss: 0.0649 - acc: 0.9905 - val_loss: 0.5645 - val_acc: 0.8702\n",
      "Epoch 16/20\n",
      "157/157 [==============================] - 3s 20ms/step - loss: 0.0547 - acc: 0.9945 - val_loss: 0.5600 - val_acc: 0.8694\n",
      "Epoch 17/20\n",
      "157/157 [==============================] - 3s 20ms/step - loss: 0.0469 - acc: 0.9962 - val_loss: 0.5792 - val_acc: 0.8718\n",
      "Epoch 18/20\n",
      "157/157 [==============================] - 3s 19ms/step - loss: 0.0411 - acc: 0.9973 - val_loss: 0.5692 - val_acc: 0.8708\n",
      "Epoch 19/20\n",
      "157/157 [==============================] - 3s 19ms/step - loss: 0.0361 - acc: 0.9980 - val_loss: 0.6203 - val_acc: 0.8710\n",
      "Epoch 20/20\n",
      "157/157 [==============================] - 3s 19ms/step - loss: 0.0334 - acc: 0.9981 - val_loss: 0.5924 - val_acc: 0.8706\n"
     ]
    }
   ],
   "source": [
    "modelIMDBf9 = Sequential()\n",
    "modelIMDBf9.add(layers.Embedding(max_features, 128, input_length=max_len))\n",
    "modelIMDBf9.add(layers.Conv1D(32, 9, activation='relu'))\n",
    "modelIMDBf9.add(layers.MaxPooling1D(3))\n",
    "modelIMDBf9.add(layers.Conv1D(16, 9, activation='relu'))\n",
    "modelIMDBf9.add(layers.GlobalMaxPooling1D())\n",
    "modelIMDBf9.add(layers.Dense(4))\n",
    "modelIMDBf9.add(layers.Dense(1))\n",
    "\n",
    "modelIMDBf9.summary()\n",
    "\n",
    "modelIMDBf9.compile(optimizer=RMSprop(learning_rate=1e-4),\n",
    "                                loss='binary_crossentropy',\n",
    "                                metrics=['acc'])\n",
    "historyIMDBf9 = modelIMDBf9.fit(x_train, y_train,\n",
    "                                epochs=20,\n",
    "                                batch_size=128,\n",
    "                                validation_split=0.2)"
   ]
  },
  {
   "cell_type": "code",
   "execution_count": 13,
   "metadata": {},
   "outputs": [
    {
     "data": {
      "text/plain": [
       "<Figure size 432x288 with 0 Axes>"
      ]
     },
     "metadata": {},
     "output_type": "display_data"
    },
    {
     "data": {
      "image/png": "[encoded data removed]",
      "text/plain": [
       "<Figure size 1080x360 with 1 Axes>"
      ]
     },
     "metadata": {
      "needs_background": "light"
     },
     "output_type": "display_data"
    },
    {
     "data": {
      "text/plain": [
       "<Figure size 432x288 with 0 Axes>"
      ]
     },
     "metadata": {},
     "output_type": "display_data"
    },
    {
     "data": {
      "image/png": "[encoded data removed]",
      "text/plain": [
       "<Figure size 1080x360 with 1 Axes>"
      ]
     },
     "metadata": {
      "needs_background": "light"
     },
     "output_type": "display_data"
    }
   ],
   "source": [
    "accIMDBf9 = historyIMDBf9.history['acc']\n",
    "val_accIMDBf9 = historyIMDBf9.history['val_acc']\n",
    "lossIMDBf9 = historyIMDBf9.history['loss']\n",
    "val_lossIMDBf9 = historyIMDBf9.history['val_loss']\n",
    "\n",
    "PlotAccuracyComparison(accIMDBf9, val_accIMDBf9, lab = 'IMDBf9')\n",
    "PlotLossComparison(lossIMDBf9, val_lossIMDBf9, lab = 'IMDBf9')"
   ]
  },
  {
   "cell_type": "markdown",
   "metadata": {},
   "source": [
    "As presented above, we achieved results very quickly in comparison to GRU and LSTM networks we will work with next. As we will see later, this is a convincing demonstration that a 1D convnet can offer a fast, cheap alternative to a recurrent network on a word-level sentiment classification task. However, we would like to achieve better performance than achieved using only 1D convnets."
   ]
  },
  {
   "cell_type": "markdown",
   "metadata": {},
   "source": [
    "# Recurrent Neural Networks\n",
    "\n",
    "__Recurrent Neural Networks (RNNs)__ have a kind of __process memory__ that was unavailable in convnets where each input shown to them was processed independently, with no state kept in between subsequent inputs. With convnets, in order to process a sequence or a temporal series of data ponts, you have to show the entire sequence (or parts of the sequence using a window) to the convnet at once, simply turning it into a single data point in a multidimensional space. For instance, when we worked with the IMDB dataset, an entire move review was transformed into a single large vector and processes in one go. Such networks are called __feedforward networks__.\n",
    "\n",
    "__Recurrent Neural Networks (RNNs)__ adopt the same principle, albeit they process sequences by iterating through the sequence elements and maintaining a state containing information relative to what i thas seen so far. In effect, an RNN is a neural network type with an internal loop:\n",
    "\n",
    "![recurrent neural network](http://home.agh.edu.pl/~horzyk/lectures/jupyternotebooks/images/RNN.png)\n",
    "\n",
    "The state of the RNN is reset (initialized) between processing of each two independent sequences (e.g. two different IMDB reviews), so one sequence is still a single data point (input to the RNN). The difference is that now this data point is no longer processed in a single step, but the network internally loops over sequence elements and takes into account all previous states produced by the previous elements in the currently processed sequence when calculating the state for the current sequence element. Each sequence element may be defined by a vector of input data, so when we unfold time, we can treat RNNs as feedforward neural networks with different inputs added to subsequent deep layers which share the same weights:\n",
    "\n",
    "![unfolded recurrent neural network](http://home.agh.edu.pl/~horzyk/lectures/jupyternotebooks/images/unfoldedRNN.png)\n",
    "\n",
    "Let's define a few plotting functions and next, create the first RNN for the IMDB dataset."
   ]
  },
  {
   "cell_type": "code",
   "execution_count": 15,
   "metadata": {},
   "outputs": [
    {
     "name": "stdout",
     "output_type": "stream",
     "text": [
      "TensorFlow version: 2.10.0\n",
      "Keras version: 2.10.0\n"
     ]
    }
   ],
   "source": [
    "import tensorflow as tf\n",
    "import keras\n",
    "\n",
    "print (\"TensorFlow version: \" + tf.__version__)\n",
    "print (\"Keras version: \" + keras.__version__)"
   ]
  },
  {
   "cell_type": "markdown",
   "metadata": {},
   "source": [
    "## Definition of plotting functions\n",
    "\n",
    "First, let's define plotting functions that will be used to chart the plots of the achieved results:"
   ]
  },
  {
   "cell_type": "code",
   "execution_count": 14,
   "metadata": {},
   "outputs": [],
   "source": [
    "import matplotlib.pyplot as plt  # library for plotting math functions: https://matplotlib.org/stable/index.html\n",
    "\n",
    "def plt_inline():\n",
    "    #rc = plt.rcParams.copy()\n",
    "    %matplotlib inline\n",
    "    #plt.rcParams.update(rc)\n",
    "\n",
    "def PlotAccuracyComparison(acc, val_acc, lab = ''):\n",
    "    plt.clf()   # clear figure\n",
    "    plt.figure(figsize=(20,5))\n",
    "    plt_inline()\n",
    "    epochs = range(len(acc))\n",
    "    plt.plot(epochs, acc, 'bo', label='Training accuracy for ' + lab)\n",
    "    plt.plot(epochs, val_acc, 'b', label='Validation accuracy for ' + lab)\n",
    "    plt.title('Comparison of Training and Validation Accuracies')\n",
    "    plt.xlabel('Epochs')\n",
    "    plt.ylabel('Accuracy')\n",
    "    plt.legend(['Train ' + lab, 'Test ' + lab], loc='upper left')\n",
    "    plt.show()\n",
    "    \n",
    "def PlotLossComparison(loss, val_loss, lab = ''):\n",
    "    plt.clf()   # clear figure\n",
    "    plt.figure(figsize=(20,5))\n",
    "    plt_inline()\n",
    "    epochs = range(len(loss))\n",
    "    plt.plot(epochs, loss, 'bo', label='Training loss for ' + lab)\n",
    "    plt.plot(epochs, val_loss, 'b', label='Validation loss for ' + lab)\n",
    "    plt.title('Comparison of Training and Validation Losses')\n",
    "    plt.xlabel('Epochs')\n",
    "    plt.ylabel('Loss')\n",
    "    plt.legend(['Train ' + lab, 'Test ' + lab], loc='upper left')\n",
    "    plt.show()\n",
    "    \n",
    "def PlotTwoAccuracyComparison(acc1, val_acc1, acc2, val_acc2, lab1 = 'Model 1', lab2 = 'Model 2'):\n",
    "    plt.clf()   # clear figure\n",
    "    plt.figure(figsize=(20,5))\n",
    "    plt_inline()\n",
    "    epochs = range(len(acc1))\n",
    "    plt.plot(epochs, acc1, 'bo', label='Training accuracy for ' + lab1)\n",
    "    plt.plot(epochs, val_acc1, 'b', label='Validation accuracy for ' + lab1)\n",
    "    plt.plot(epochs, acc2, 'ro', label='Training accuracy for ' + lab2)\n",
    "    plt.plot(epochs, val_acc2, 'r', label='Validation accuracy for ' + lab2)\n",
    "    plt.title('Comparison of Training and Validation Accuracies')\n",
    "    plt.xlabel('Epochs')\n",
    "    plt.ylabel('Accuracy')\n",
    "    plt.legend(['Train '+ lab1, 'Test ' + lab1, 'Train '+ lab2, 'Test ' + lab2], loc='upper left')\n",
    "    plt.show()\n",
    "    \n",
    "def PlotTwoLossComparison(loss1, val_loss1, loss2, val_loss2, lab1 = 'Model 1', lab2 = 'Model 2'):\n",
    "    plt.clf()   # clear figure\n",
    "    plt.figure(figsize=(20,5))\n",
    "    plt_inline()\n",
    "    epochs = range(len(loss1))\n",
    "    plt.plot(epochs, loss1, 'bo', label='Training loss for ' + lab1)\n",
    "    plt.plot(epochs, val_loss1, 'b', label='Validation loss for ' + lab1)\n",
    "    plt.plot(epochs, loss2, 'ro', label='Training loss for ' + lab2)\n",
    "    plt.plot(epochs, val_loss2, 'r', label='Validation loss for ' + lab2)\n",
    "    plt.title('Comparison of Training and Validation Losses')\n",
    "    plt.xlabel('Epochs')\n",
    "    plt.ylabel('Loss')\n",
    "    plt.legend(['Train '+ lab1, 'Test ' + lab1, 'Train '+ lab2, 'Test ' + lab2], loc='upper left')\n",
    "    plt.show()"
   ]
  },
  {
   "cell_type": "markdown",
   "metadata": {},
   "source": [
    "## Simple Numpy Implementation of a Recurrent Neural Network\n",
    "\n",
    "Before using Keras library, let's implement a simple RNN using the Numpy library and look at how this kind of neural networks works and processes inputs and outputs according to the previous figures. Here, we will just work on random input data, random weights (W and U), biases and evaluate the RNN in 10 subsequent time steps:"
   ]
  },
  {
   "cell_type": "code",
   "execution_count": 15,
   "metadata": {},
   "outputs": [
    {
     "name": "stdout",
     "output_type": "stream",
     "text": [
      "inputs: [[0.02088021 0.08218429 0.01675776 0.04689678]\n",
      " [0.0690648  0.02961003 0.05088102 0.06093652]\n",
      " [0.08135665 0.08227455 0.03775941 0.02756107]\n",
      " [0.01004108 0.04862368 0.04649283 0.05374283]\n",
      " [0.03331293 0.02749962 0.0630258  0.04920999]\n",
      " [0.0480735  0.02245504 0.0669092  0.05815002]\n",
      " [0.03128382 0.05086593 0.09444599 0.02130207]\n",
      " [0.06905957 0.07253404 0.09200537 0.03350681]\n",
      " [0.03771688 0.09109774 0.04973695 0.04218347]\n",
      " [0.00322019 0.03975995 0.08447245 0.06643408]]\n",
      "state_t: [0. 0. 0. 0. 0. 0. 0. 0.]\n",
      "W: [[0.06664572 0.02610355 0.09285103 0.0962159 ]\n",
      " [0.01288973 0.07732484 0.06070177 0.01277351]\n",
      " [0.07089149 0.0503953  0.01350608 0.03567943]\n",
      " [0.00801079 0.06638621 0.02876512 0.04666859]\n",
      " [0.08235176 0.01887041 0.02470625 0.06820257]\n",
      " [0.05721891 0.02396058 0.07979609 0.00578174]\n",
      " [0.08539134 0.05050854 0.03777337 0.00511766]\n",
      " [0.06726769 0.08856075 0.09598308 0.06768754]]\n",
      "U: [[0.00705234 0.04697534 0.08463434 0.05081297 0.09853508 0.02562572\n",
      "  0.06369934 0.07579535]\n",
      " [0.06960035 0.01817974 0.08895268 0.01931647 0.00035781 0.05428799\n",
      "  0.01614117 0.03601625]\n",
      " [0.07810891 0.06858071 0.00545509 0.08666827 0.06245175 0.05863093\n",
      "  0.03131484 0.05691192]\n",
      " [0.05723894 0.08618454 0.01184525 0.09549291 0.00367116 0.03083238\n",
      "  0.03347747 0.02320962]\n",
      " [0.08292727 0.04954108 0.05397149 0.0698566  0.05026329 0.05879488\n",
      "  0.07784436 0.04224725]\n",
      " [0.04469604 0.04842689 0.04190571 0.05369647 0.01011441 0.06435062\n",
      "  0.07468879 0.06369757]\n",
      " [0.08659511 0.05143341 0.0449907  0.08432325 0.09797131 0.01126514\n",
      "  0.08240746 0.06765122]\n",
      " [0.01150957 0.01662579 0.05595658 0.08142034 0.04967626 0.00116798\n",
      "  0.02517732 0.03858942]]\n",
      "b: [0.0438518  0.06753994 0.0993017  0.05676851 0.04059932 0.03989666\n",
      " 0.01612573 0.09120211]\n",
      "output in time t [0.05340601 0.0756355  0.10641873 0.06497067 0.04744654 0.04463925\n",
      " 0.0229287  0.1042872 ]\n",
      "output in time t [0.09098446 0.09666375 0.13551616 0.08516696 0.08173423 0.07453776\n",
      " 0.05856274 0.12691816]\n",
      "output in time t [0.10152174 0.10854689 0.14995752 0.09574169 0.09538232 0.08655983\n",
      " 0.07703143 0.13628862]\n",
      "output in time t [0.10511338 0.10960881 0.14956916 0.09844847 0.0970671  0.08762048\n",
      " 0.07640316 0.13465871]\n",
      "output in time t [0.10739536 0.10949875 0.15082771 0.09803165 0.09921127 0.08999568\n",
      " 0.07850344 0.13587466]\n",
      "output in time t [0.11003099 0.11010954 0.15250147 0.09861412 0.10169686 0.09160347\n",
      " 0.08039508 0.13763515]\n",
      "output in time t [0.10943101 0.11378104 0.15251615 0.09986753 0.09985735 0.09391854\n",
      " 0.08215692 0.13955563]\n",
      "output in time t [0.11377612 0.11619202 0.15707561 0.1026493  0.10458176 0.0970494\n",
      " 0.08677833 0.14468849]\n",
      "output in time t [0.11101761 0.11600772 0.15721064 0.10396929 0.10382504 0.09397917\n",
      " 0.08566188 0.1419366 ]\n",
      "output in time t [0.11253523 0.11360187 0.15308234 0.10219003 0.10198712 0.09317471\n",
      " 0.08107361 0.13998928]\n",
      "[0.05340601 0.0756355  0.10641873 0.06497067 0.04744654 0.04463925\n",
      " 0.0229287  0.1042872  0.09098446 0.09666375 0.13551616 0.08516696\n",
      " 0.08173423 0.07453776 0.05856274 0.12691816 0.10152174 0.10854689\n",
      " 0.14995752 0.09574169 0.09538232 0.08655983 0.07703143 0.13628862\n",
      " 0.10511338 0.10960881 0.14956916 0.09844847 0.0970671  0.08762048\n",
      " 0.07640316 0.13465871 0.10739536 0.10949875 0.15082771 0.09803165\n",
      " 0.09921127 0.08999568 0.07850344 0.13587466 0.11003099 0.11010954\n",
      " 0.15250147 0.09861412 0.10169686 0.09160347 0.08039508 0.13763515\n",
      " 0.10943101 0.11378104 0.15251615 0.09986753 0.09985735 0.09391854\n",
      " 0.08215692 0.13955563 0.11377612 0.11619202 0.15707561 0.1026493\n",
      " 0.10458176 0.0970494  0.08677833 0.14468849 0.11101761 0.11600772\n",
      " 0.15721064 0.10396929 0.10382504 0.09397917 0.08566188 0.1419366\n",
      " 0.11253523 0.11360187 0.15308234 0.10219003 0.10198712 0.09317471\n",
      " 0.08107361 0.13998928]\n"
     ]
    }
   ],
   "source": [
    "import numpy as np\n",
    "\n",
    "timesteps = 10\n",
    "input_features = 4\n",
    "output_features = 8\n",
    "\n",
    "inputs = np.random.random((timesteps, input_features)) / 10\n",
    "print(\"inputs:\", inputs)\n",
    "\n",
    "state_t = np.zeros((output_features,))\n",
    "print(\"state_t:\", state_t)\n",
    "\n",
    "W = np.random.random((output_features, input_features)) / 10\n",
    "print(\"W:\", W)\n",
    "U = np.random.random((output_features, output_features)) / 10\n",
    "print(\"U:\", U)\n",
    "b = np.random.random((output_features,)) / 10\n",
    "print(\"b:\", b)\n",
    "\n",
    "successive_outputs = []\n",
    "for input_t in inputs:\n",
    "    # The internal state is calculated on the basis of the current input as well as the previous state in time t-1\n",
    "    state_t = np.tanh(np.dot(W, input_t) + np.dot(U, state_t) + b)\n",
    "    # In this simple RNN, the output of the t step is equal to the calculated internal state in time t\n",
    "    output_t = state_t\n",
    "    print(\"output in time t\", output_t)\n",
    "    # Append the calculated output to the output sequence\n",
    "    successive_outputs.append(output_t)\n",
    "\n",
    "final_output_sequence = np.concatenate(successive_outputs, axis=0)\n",
    "print (final_output_sequence)"
   ]
  },
  {
   "cell_type": "markdown",
   "metadata": {},
   "source": [
    "## Recurrent layers in Keras\n",
    "\n",
    "The process we just implemented in Numpy corresponds to an actual Keras `SimpleRNN` layer, but it takes inputs of shape `(batch_size, timesteps, input_features)`, rather than `(timesteps, input_features)`.\n",
    "\n",
    "Like all recurrent layers in Keras, `SimpleRNN` can be run in two different modes:\n",
    "* it can return only the last output for each input sequence (a 2D tensor of shape `(batch_size, output_features)`), or\n",
    "* it can return either the full sequences of successive outputs for each timestep (a 3D tensor of shape `(batch_size, timesteps, output_features)`).\n",
    "\n",
    "These two modes are controlled by the `return_sequences` constructor argument. Let's take a look at two examples demonstrating these two options:"
   ]
  },
  {
   "cell_type": "code",
   "execution_count": 16,
   "metadata": {},
   "outputs": [
    {
     "name": "stdout",
     "output_type": "stream",
     "text": [
      "Model: \"sequential_4\"\n",
      "_________________________________________________________________\n",
      " Layer (type)                Output Shape              Param #   \n",
      "=================================================================\n",
      " embedding_4 (Embedding)     (None, None, 32)          320000    \n",
      "                                                                 \n",
      " simple_rnn (SimpleRNN)      (None, 32)                2080      \n",
      "                                                                 \n",
      "=================================================================\n",
      "Total params: 322,080\n",
      "Trainable params: 322,080\n",
      "Non-trainable params: 0\n",
      "_________________________________________________________________\n"
     ]
    }
   ],
   "source": [
    "from keras.layers import SimpleRNN\n",
    "from keras.models import Sequential\n",
    "from keras.layers import Embedding, SimpleRNN\n",
    "\n",
    "model = Sequential()\n",
    "# Turn positive integers (indexes) into dense vectors of the fixed and defined size.\n",
    "model.add(Embedding(10000, 32))  # This layer can only be used as the first layer in a model\n",
    "model.add(SimpleRNN(32))\n",
    "\n",
    "model.summary()"
   ]
  },
  {
   "cell_type": "code",
   "execution_count": 17,
   "metadata": {},
   "outputs": [
    {
     "name": "stdout",
     "output_type": "stream",
     "text": [
      "Model: \"sequential_5\"\n",
      "_________________________________________________________________\n",
      " Layer (type)                Output Shape              Param #   \n",
      "=================================================================\n",
      " embedding_5 (Embedding)     (None, None, 32)          320000    \n",
      "                                                                 \n",
      " simple_rnn_1 (SimpleRNN)    (None, None, 32)          2080      \n",
      "                                                                 \n",
      "=================================================================\n",
      "Total params: 322,080\n",
      "Trainable params: 322,080\n",
      "Non-trainable params: 0\n",
      "_________________________________________________________________\n"
     ]
    }
   ],
   "source": [
    "model = Sequential()\n",
    "model.add(Embedding(10000, 32)) # https://keras.io/api/layers/core_layers/embedding/ \n",
    "model.add(SimpleRNN(32, return_sequences=True))\n",
    "\n",
    "model.summary()"
   ]
  },
  {
   "cell_type": "markdown",
   "metadata": {},
   "source": [
    "It is sometimes useful to stack several recurrent layers one after the other in order to increase the representational power of a network. \n",
    "In such a setup, you have to get all intermediate layers to return full sequences:"
   ]
  },
  {
   "cell_type": "code",
   "execution_count": 20,
   "metadata": {},
   "outputs": [
    {
     "name": "stdout",
     "output_type": "stream",
     "text": [
      "Model: \"sequential_6\"\n",
      "_________________________________________________________________\n",
      " Layer (type)                Output Shape              Param #   \n",
      "=================================================================\n",
      " embedding_6 (Embedding)     (None, None, 32)          320000    \n",
      "                                                                 \n",
      " simple_rnn_2 (SimpleRNN)    (None, None, 32)          2080      \n",
      "                                                                 \n",
      " simple_rnn_3 (SimpleRNN)    (None, None, 32)          2080      \n",
      "                                                                 \n",
      " simple_rnn_4 (SimpleRNN)    (None, None, 32)          2080      \n",
      "                                                                 \n",
      " simple_rnn_5 (SimpleRNN)    (None, 32)                2080      \n",
      "                                                                 \n",
      "=================================================================\n",
      "Total params: 328,320\n",
      "Trainable params: 328,320\n",
      "Non-trainable params: 0\n",
      "_________________________________________________________________\n"
     ]
    }
   ],
   "source": [
    "model = Sequential()\n",
    "model.add(Embedding(10000, 32))\n",
    "model.add(SimpleRNN(32, return_sequences=True))\n",
    "model.add(SimpleRNN(32, return_sequences=True))\n",
    "model.add(SimpleRNN(32, return_sequences=True))\n",
    "model.add(SimpleRNN(32))  # This last layer only returns the last output.\n",
    "\n",
    "model.summary()"
   ]
  },
  {
   "cell_type": "markdown",
   "metadata": {},
   "source": [
    "## Set up the model directory for saving the trained models"
   ]
  },
  {
   "cell_type": "code",
   "execution_count": 21,
   "metadata": {},
   "outputs": [],
   "source": [
    "import os\n",
    "\n",
    "# The path to store trained models\n",
    "models_dir = 'C:/ml/models/'\n",
    "if not os.path.exists(models_dir):\n",
    "    os.mkdir(models_dir)"
   ]
  },
  {
   "cell_type": "markdown",
   "metadata": {},
   "source": [
    "## Implementation of RNN to the IMDB movie review classification problem\n",
    "\n",
    "Now let's try to use such a recurrent model on the IMDB movie review classification problem, where the reviews will be assigned to one of two classes as being positive or negative. So, a single output is necessary. First, let's preprocess the data:"
   ]
  },
  {
   "cell_type": "code",
   "execution_count": 19,
   "metadata": {},
   "outputs": [
    {
     "name": "stdout",
     "output_type": "stream",
     "text": [
      "Loading data...\n",
      "25000 train sequences\n",
      "25000 test sequences\n",
      "Pad sequences (samples x time) to the same length.\n",
      "input_train shape: (25000, 1000)\n",
      "input_test shape: (25000, 1000)\n"
     ]
    }
   ],
   "source": [
    "from keras.datasets import imdb\n",
    "from keras.preprocessing import sequence\n",
    "\n",
    "max_features = 10000  # number of words to consider as features\n",
    "maxlen = 1000  # cut texts after this number of words (among top max_features most common words)\n",
    "batch_size = 64 #32\n",
    "\n",
    "print('Loading data...')\n",
    "(input_train, y_train), (input_test, y_test) = imdb.load_data(num_words=max_features)\n",
    "print(len(input_train), 'train sequences')\n",
    "print(len(input_test), 'test sequences')\n",
    "\n",
    "print('Pad sequences (samples x time) to the same length.')\n",
    "input_train = pad_sequences(input_train, maxlen=maxlen) # Pads sequences to the same length (truncates or pads with zeros).\n",
    "input_test = pad_sequences(input_test, maxlen=maxlen) # https://www.tensorflow.org/api_docs/python/tf/keras/preprocessing/sequence/pad_sequences\n",
    "print('input_train shape:', input_train.shape)\n",
    "print('input_test shape:', input_test.shape)"
   ]
  },
  {
   "cell_type": "markdown",
   "metadata": {},
   "source": [
    "Let's train a simple recurrent network containing an `Embedding` layer and a `SimpleRNN` layer on such prepared training data:"
   ]
  },
  {
   "cell_type": "code",
   "execution_count": null,
   "metadata": {},
   "outputs": [
    {
     "name": "stdout",
     "output_type": "stream",
     "text": [
      "Epoch 1/50\n",
      "14/79 [====>.........................] - ETA: 2:51 - loss: 0.6967 - acc: 0.5103"
     ]
    }
   ],
   "source": [
    "from keras.layers import Dense, Dropout\n",
    "\n",
    "epochs = 50\n",
    "batch_size = 256\n",
    "\n",
    "modelIMDBSimpleRNN = Sequential()\n",
    "modelIMDBSimpleRNN.add(Embedding(max_features, 64)) #32\n",
    "modelIMDBSimpleRNN.add(SimpleRNN(64)) #32\n",
    "#modelIMDBSimpleRNN.add(Dropout(0.125)) #+\n",
    "modelIMDBSimpleRNN.add(Dense(8, activation='relu')) #added (81%/20ep)\n",
    "modelIMDBSimpleRNN.add(Dense(1, activation='sigmoid'))\n",
    "\n",
    "modelIMDBSimpleRNN.compile(optimizer='rmsprop', loss='binary_crossentropy', metrics=['acc'])\n",
    "historyIMDBSimpleRNN = modelIMDBSimpleRNN.fit(input_train, y_train,\n",
    "                                              epochs = epochs,\n",
    "                                              batch_size = batch_size,\n",
    "                                              validation_split = 0.2)\n",
    "\n",
    "modelIMDBSimpleRNN.save(models_dir + 'IMDB_SimpleRNN.h5')"
   ]
  },
  {
   "cell_type": "markdown",
   "metadata": {},
   "source": [
    "Let's display the training and validation loss and accuracy:"
   ]
  },
  {
   "cell_type": "code",
   "execution_count": null,
   "metadata": {},
   "outputs": [],
   "source": [
    "accIMDBSimpleRNN = historyIMDBSimpleRNN.history['acc']\n",
    "val_accIMDBSimpleRNN = historyIMDBSimpleRNN.history['val_acc']\n",
    "lossIMDBSimpleRNN = historyIMDBSimpleRNN.history['loss']\n",
    "val_lossIMDBSimpleRNN = historyIMDBSimpleRNN.history['val_loss']\n",
    "\n",
    "PlotAccuracyComparison(accIMDBSimpleRNN, val_accIMDBSimpleRNN, lab = 'IMDB-SimpleRNN')\n",
    "PlotLossComparison(lossIMDBSimpleRNN, val_lossIMDBSimpleRNN, lab = 'IMDB-SimpleRNN')"
   ]
  },
  {
   "cell_type": "markdown",
   "metadata": {},
   "source": [
    "Previously, using a simple `Dense` layer network, we got about 86% validation accuracy to this dataset, so got better results to those achieved now using a simple `SimpleRNN` layer network. Unfortunately, our small recurrent network does not perform better compared to this baseline. Moreover, it overfits quickly after the training is started. The part of the problem is that our inputs only consider the first 1000 words rather the full sequences - hence our RNN has access to less information than our earlier baseline model. The remainder of the problem is simply that `SimpleRNN` is not very good at processing long sequences, like text, so we should use other types of recurrent layers, which perform much better. Let's take a look at some more advanced layers."
   ]
  },
  {
   "cell_type": "markdown",
   "metadata": {},
   "source": [
    "## A network using an LSTM layer to the IMDB movie review classification problem\n",
    "\n",
    "Now let's set up a model using an `LSTM` layer, which usually works better with long sequences that `SimpleRNN`, and train it on the IMDB data. LSTM stands for Long-Short Term Memory and is a kind of recurrent neural networks. Let's create a network using `LSTM`, similar to the previous one with `SimpleRNN`. We only specify the output dimensionality of the `LSTM` layer, and leave all other arguments to the Keras defaults. Keras has good defaults, and things will almost always \"just work\" without you having to spend time tuning parameters by hand. However, with growing experience, you can try to change defauls!"
   ]
  },
  {
   "cell_type": "code",
   "execution_count": 25,
   "metadata": {},
   "outputs": [
    {
     "name": "stdout",
     "output_type": "stream",
     "text": [
      "Epoch 1/50\n",
      "79/79 [==============================] - 13s 106ms/step - loss: 0.5958 - acc: 0.7142 - val_loss: 0.4474 - val_acc: 0.7994\n",
      "Epoch 2/50\n",
      "79/79 [==============================] - 8s 101ms/step - loss: 0.3694 - acc: 0.8557 - val_loss: 0.4260 - val_acc: 0.8156\n",
      "Epoch 3/50\n",
      "79/79 [==============================] - 8s 98ms/step - loss: 0.2838 - acc: 0.8906 - val_loss: 0.3878 - val_acc: 0.8268\n",
      "Epoch 4/50\n",
      "79/79 [==============================] - 8s 105ms/step - loss: 0.2465 - acc: 0.9039 - val_loss: 0.2988 - val_acc: 0.8898\n",
      "Epoch 5/50\n",
      "79/79 [==============================] - 8s 104ms/step - loss: 0.2073 - acc: 0.9245 - val_loss: 0.3119 - val_acc: 0.8912\n",
      "Epoch 6/50\n",
      "79/79 [==============================] - 8s 103ms/step - loss: 0.1919 - acc: 0.9298 - val_loss: 0.3341 - val_acc: 0.8854\n",
      "Epoch 7/50\n",
      "79/79 [==============================] - 8s 101ms/step - loss: 0.1632 - acc: 0.9407 - val_loss: 0.6102 - val_acc: 0.8126\n",
      "Epoch 8/50\n",
      "79/79 [==============================] - 8s 106ms/step - loss: 0.1526 - acc: 0.9430 - val_loss: 0.3561 - val_acc: 0.8598\n",
      "Epoch 9/50\n",
      "79/79 [==============================] - 8s 100ms/step - loss: 0.1388 - acc: 0.9489 - val_loss: 0.3539 - val_acc: 0.8472\n",
      "Epoch 10/50\n",
      "79/79 [==============================] - 8s 102ms/step - loss: 0.1233 - acc: 0.9552 - val_loss: 0.4863 - val_acc: 0.8676\n",
      "Epoch 11/50\n",
      "79/79 [==============================] - 9s 109ms/step - loss: 0.1170 - acc: 0.9581 - val_loss: 0.4665 - val_acc: 0.8736\n",
      "Epoch 12/50\n",
      "79/79 [==============================] - 8s 103ms/step - loss: 0.1026 - acc: 0.9632 - val_loss: 0.4406 - val_acc: 0.8736\n",
      "Epoch 13/50\n",
      "79/79 [==============================] - 9s 111ms/step - loss: 0.0956 - acc: 0.9668 - val_loss: 0.3731 - val_acc: 0.8664\n",
      "Epoch 14/50\n",
      "79/79 [==============================] - 8s 101ms/step - loss: 0.0898 - acc: 0.9686 - val_loss: 0.4277 - val_acc: 0.8748\n",
      "Epoch 15/50\n",
      "79/79 [==============================] - 8s 101ms/step - loss: 0.0788 - acc: 0.9732 - val_loss: 0.5104 - val_acc: 0.8728\n",
      "Epoch 16/50\n",
      "79/79 [==============================] - 8s 97ms/step - loss: 0.0764 - acc: 0.9746 - val_loss: 0.6755 - val_acc: 0.8102\n",
      "Epoch 17/50\n",
      "79/79 [==============================] - 8s 99ms/step - loss: 0.0684 - acc: 0.9766 - val_loss: 0.4701 - val_acc: 0.8716\n",
      "Epoch 18/50\n",
      "79/79 [==============================] - 8s 103ms/step - loss: 0.0596 - acc: 0.9815 - val_loss: 0.7780 - val_acc: 0.8352\n",
      "Epoch 19/50\n",
      "79/79 [==============================] - 8s 103ms/step - loss: 0.0605 - acc: 0.9801 - val_loss: 0.5495 - val_acc: 0.8718\n",
      "Epoch 20/50\n",
      "79/79 [==============================] - 8s 104ms/step - loss: 0.0574 - acc: 0.9811 - val_loss: 0.5211 - val_acc: 0.8714\n",
      "Epoch 21/50\n",
      "79/79 [==============================] - 8s 105ms/step - loss: 0.0576 - acc: 0.9841 - val_loss: 0.5690 - val_acc: 0.8576\n",
      "Epoch 22/50\n",
      "79/79 [==============================] - 8s 105ms/step - loss: 0.0464 - acc: 0.9869 - val_loss: 0.8071 - val_acc: 0.8376\n",
      "Epoch 23/50\n",
      "79/79 [==============================] - 8s 106ms/step - loss: 0.0488 - acc: 0.9848 - val_loss: 0.5263 - val_acc: 0.8524\n",
      "Epoch 24/50\n",
      "79/79 [==============================] - 8s 105ms/step - loss: 0.0446 - acc: 0.9858 - val_loss: 0.5372 - val_acc: 0.8666\n",
      "Epoch 25/50\n",
      "79/79 [==============================] - 8s 101ms/step - loss: 0.0423 - acc: 0.9866 - val_loss: 0.5814 - val_acc: 0.8604\n",
      "Epoch 26/50\n",
      "79/79 [==============================] - 8s 107ms/step - loss: 0.0332 - acc: 0.9905 - val_loss: 0.5177 - val_acc: 0.8542\n",
      "Epoch 27/50\n",
      "79/79 [==============================] - 9s 115ms/step - loss: 0.0328 - acc: 0.9898 - val_loss: 0.6309 - val_acc: 0.8628\n",
      "Epoch 28/50\n",
      "79/79 [==============================] - 9s 112ms/step - loss: 0.0338 - acc: 0.9904 - val_loss: 0.6543 - val_acc: 0.8634\n",
      "Epoch 29/50\n",
      "79/79 [==============================] - 9s 111ms/step - loss: 0.0311 - acc: 0.9909 - val_loss: 0.6453 - val_acc: 0.8634\n",
      "Epoch 30/50\n",
      "79/79 [==============================] - 9s 112ms/step - loss: 0.0332 - acc: 0.9906 - val_loss: 0.6598 - val_acc: 0.8648\n",
      "Epoch 31/50\n",
      "79/79 [==============================] - 9s 111ms/step - loss: 0.0265 - acc: 0.9921 - val_loss: 1.0069 - val_acc: 0.8032\n",
      "Epoch 32/50\n",
      "79/79 [==============================] - 9s 112ms/step - loss: 0.0244 - acc: 0.9945 - val_loss: 0.7100 - val_acc: 0.8620\n",
      "Epoch 33/50\n",
      "79/79 [==============================] - 9s 115ms/step - loss: 0.0244 - acc: 0.9927 - val_loss: 0.9820 - val_acc: 0.8426\n",
      "Epoch 34/50\n",
      "79/79 [==============================] - 9s 111ms/step - loss: 0.0177 - acc: 0.9963 - val_loss: 0.9168 - val_acc: 0.8618\n",
      "Epoch 35/50\n",
      "79/79 [==============================] - 9s 117ms/step - loss: 0.0292 - acc: 0.9925 - val_loss: 0.8069 - val_acc: 0.8190\n",
      "Epoch 36/50\n",
      "79/79 [==============================] - 9s 120ms/step - loss: 0.0248 - acc: 0.9938 - val_loss: 0.7362 - val_acc: 0.8632\n",
      "Epoch 37/50\n",
      "79/79 [==============================] - 9s 118ms/step - loss: 0.0243 - acc: 0.9952 - val_loss: 0.7587 - val_acc: 0.8622\n",
      "Epoch 38/50\n",
      "79/79 [==============================] - 9s 112ms/step - loss: 0.0344 - acc: 0.9924 - val_loss: 0.7748 - val_acc: 0.8610\n",
      "Epoch 39/50\n",
      "79/79 [==============================] - 9s 117ms/step - loss: 0.0150 - acc: 0.9960 - val_loss: 0.7825 - val_acc: 0.8620\n",
      "Epoch 40/50\n",
      "79/79 [==============================] - 9s 108ms/step - loss: 0.0235 - acc: 0.9932 - val_loss: 0.7887 - val_acc: 0.8448\n",
      "Epoch 41/50\n",
      "79/79 [==============================] - 8s 104ms/step - loss: 0.0217 - acc: 0.9944 - val_loss: 0.7849 - val_acc: 0.8554\n",
      "Epoch 42/50\n",
      "79/79 [==============================] - 9s 108ms/step - loss: 0.0138 - acc: 0.9972 - val_loss: 0.8572 - val_acc: 0.8582\n",
      "Epoch 43/50\n",
      "79/79 [==============================] - 10s 121ms/step - loss: 0.0260 - acc: 0.9944 - val_loss: 0.8382 - val_acc: 0.8538\n",
      "Epoch 44/50\n",
      "79/79 [==============================] - 9s 108ms/step - loss: 0.0121 - acc: 0.9973 - val_loss: 0.8822 - val_acc: 0.8604\n",
      "Epoch 45/50\n",
      "79/79 [==============================] - 10s 122ms/step - loss: 0.0189 - acc: 0.9956 - val_loss: 0.8303 - val_acc: 0.8538\n",
      "Epoch 46/50\n",
      "79/79 [==============================] - 10s 120ms/step - loss: 0.0151 - acc: 0.9960 - val_loss: 0.8481 - val_acc: 0.8524\n",
      "Epoch 47/50\n",
      "79/79 [==============================] - 9s 111ms/step - loss: 0.0103 - acc: 0.9977 - val_loss: 0.9782 - val_acc: 0.8588\n",
      "Epoch 48/50\n",
      "79/79 [==============================] - 8s 104ms/step - loss: 0.0246 - acc: 0.9945 - val_loss: 1.2847 - val_acc: 0.8216\n",
      "Epoch 49/50\n",
      "79/79 [==============================] - 9s 110ms/step - loss: 0.0078 - acc: 0.9980 - val_loss: 0.8855 - val_acc: 0.8556\n",
      "Epoch 50/50\n",
      "79/79 [==============================] - 8s 107ms/step - loss: 0.0218 - acc: 0.9952 - val_loss: 0.8088 - val_acc: 0.8412\n"
     ]
    }
   ],
   "source": [
    "from keras.layers import LSTM\n",
    "\n",
    "modelIMDBLSTM = Sequential()\n",
    "modelIMDBLSTM.add(Embedding(max_features, 64)) #32\n",
    "modelIMDBLSTM.add(LSTM(64)) #32  # https://keras.io/api/layers/recurrent_layers/lstm/\n",
    "#modelIMDBLSTM.add(Dropout(0.125)) #+\n",
    "modelIMDBLSTM.add(Dense(8, activation='relu')) #added (87%/20ep)\n",
    "modelIMDBLSTM.add(Dense(1, activation='sigmoid'))\n",
    "\n",
    "modelIMDBLSTM.compile(optimizer='rmsprop',\n",
    "                      loss='binary_crossentropy',\n",
    "                      metrics=['acc'])\n",
    "historyIMDBLSTM = modelIMDBLSTM.fit(input_train, y_train,\n",
    "                                    epochs=epochs,\n",
    "                                    batch_size=batch_size,\n",
    "                                    validation_split=0.2)\n",
    "\n",
    "modelIMDBLSTM.save(models_dir + 'IMDB_LSTM.h5')"
   ]
  },
  {
   "cell_type": "markdown",
   "metadata": {},
   "source": [
    "As we can see, the training time of an `LSTM` layer is a few times longer than for a `SimpleRNN` layer, but the results achieved for the model encompassing an `LSTM` layer is better and more stable than the model using a `SimpleRNN` layer. The model based on an `LSTM` layer does not overfit so much as the previous one. The LSTM-based model also achieved better final accuracy than the base-line model using only `Dense` layers."
   ]
  },
  {
   "cell_type": "code",
   "execution_count": 26,
   "metadata": {},
   "outputs": [],
   "source": [
    "accIMDBLSTM = historyIMDBLSTM.history['acc']\n",
    "val_accIMDBLSTM = historyIMDBLSTM.history['val_acc']\n",
    "lossIMDBLSTM = historyIMDBLSTM.history['loss']\n",
    "val_lossIMDBLSTM = historyIMDBLSTM.history['val_loss']"
   ]
  },
  {
   "cell_type": "code",
   "execution_count": 27,
   "metadata": {},
   "outputs": [
    {
     "data": {
      "image/png": "[encoded data removed]",
      "text/plain": [
       "<Figure size 432x288 with 1 Axes>"
      ]
     },
     "metadata": {
      "needs_background": "light"
     },
     "output_type": "display_data"
    },
    {
     "data": {
      "image/png": "[encoded data removed]",
      "text/plain": [
       "<Figure size 432x288 with 1 Axes>"
      ]
     },
     "metadata": {
      "needs_background": "light"
     },
     "output_type": "display_data"
    }
   ],
   "source": [
    "PlotAccuracyComparison(accIMDBLSTM, val_accIMDBLSTM, lab = 'IMDB-LSTM')\n",
    "PlotLossComparison(lossIMDBLSTM, val_lossIMDBLSTM, lab = 'IMDB-LSTM')"
   ]
  },
  {
   "cell_type": "markdown",
   "metadata": {},
   "source": [
    "Now, let's compare these two models: the `SimpleRNN` and `LSTM` models:"
   ]
  },
  {
   "cell_type": "code",
   "execution_count": 28,
   "metadata": {},
   "outputs": [
    {
     "data": {
      "image/png": "[encoded data removed]",
      "text/plain": [
       "<Figure size 432x288 with 1 Axes>"
      ]
     },
     "metadata": {
      "needs_background": "light"
     },
     "output_type": "display_data"
    },
    {
     "data": {
      "image/png": "[encoded data removed]",
      "text/plain": [
       "<Figure size 432x288 with 1 Axes>"
      ]
     },
     "metadata": {
      "needs_background": "light"
     },
     "output_type": "display_data"
    }
   ],
   "source": [
    "PlotTwoAccuracyComparison(accIMDBSimpleRNN[:epochs], val_accIMDBSimpleRNN[:epochs], accIMDBLSTM[:epochs], val_accIMDBLSTM[:epochs], lab1 = 'IMDB-SimpleRNN', lab2 = 'IMDB-LSTM')\n",
    "PlotTwoLossComparison(lossIMDBSimpleRNN[:epochs], val_lossIMDBSimpleRNN[:epochs], lossIMDBLSTM[:epochs], val_lossIMDBLSTM[:epochs], lab1 = 'IMDB-SimpleRNN', lab2 = 'IMDB-LSTM')"
   ]
  },
  {
   "cell_type": "markdown",
   "metadata": {},
   "source": [
    "The comparisons have shown that the LSTM-based network is training longer but more stable and with smaller variance (overfits less).\n",
    "\n",
    "We use LSTM and GRU layers to struggle for a better solution when training long sequences. Let's try to use a GRU layer instead of an LSTM layer."
   ]
  },
  {
   "cell_type": "code",
   "execution_count": 29,
   "metadata": {},
   "outputs": [
    {
     "name": "stdout",
     "output_type": "stream",
     "text": [
      "Epoch 1/50\n",
      "79/79 [==============================] - 10s 94ms/step - loss: 0.6380 - acc: 0.6795 - val_loss: 0.5297 - val_acc: 0.7270\n",
      "Epoch 2/50\n",
      "79/79 [==============================] - 7s 86ms/step - loss: 0.3947 - acc: 0.8278 - val_loss: 0.3948 - val_acc: 0.8230\n",
      "Epoch 3/50\n",
      "79/79 [==============================] - 7s 88ms/step - loss: 0.2971 - acc: 0.8782 - val_loss: 0.5605 - val_acc: 0.7992\n",
      "Epoch 4/50\n",
      "79/79 [==============================] - 7s 86ms/step - loss: 0.2609 - acc: 0.8966 - val_loss: 0.3565 - val_acc: 0.8444\n",
      "Epoch 5/50\n",
      "79/79 [==============================] - 7s 88ms/step - loss: 0.2291 - acc: 0.9092 - val_loss: 0.3374 - val_acc: 0.8650\n",
      "Epoch 6/50\n",
      "79/79 [==============================] - 7s 87ms/step - loss: 0.2002 - acc: 0.9232 - val_loss: 0.3656 - val_acc: 0.8408\n",
      "Epoch 7/50\n",
      "79/79 [==============================] - 7s 90ms/step - loss: 0.1855 - acc: 0.9306 - val_loss: 0.3614 - val_acc: 0.8484\n",
      "Epoch 8/50\n",
      "79/79 [==============================] - 7s 90ms/step - loss: 0.1652 - acc: 0.9376 - val_loss: 0.3865 - val_acc: 0.8302\n",
      "Epoch 9/50\n",
      "79/79 [==============================] - 7s 90ms/step - loss: 0.1583 - acc: 0.9409 - val_loss: 0.5732 - val_acc: 0.8488\n",
      "Epoch 10/50\n",
      "79/79 [==============================] - 7s 91ms/step - loss: 0.1434 - acc: 0.9467 - val_loss: 0.4568 - val_acc: 0.8374\n",
      "Epoch 11/50\n",
      "79/79 [==============================] - 7s 94ms/step - loss: 0.1268 - acc: 0.9515 - val_loss: 0.5719 - val_acc: 0.8092\n",
      "Epoch 12/50\n",
      "79/79 [==============================] - 7s 90ms/step - loss: 0.1245 - acc: 0.9541 - val_loss: 0.4352 - val_acc: 0.8790\n",
      "Epoch 13/50\n",
      "79/79 [==============================] - 7s 94ms/step - loss: 0.1112 - acc: 0.9594 - val_loss: 0.6564 - val_acc: 0.7840\n",
      "Epoch 14/50\n",
      "79/79 [==============================] - 7s 86ms/step - loss: 0.1028 - acc: 0.9633 - val_loss: 0.4017 - val_acc: 0.8640\n",
      "Epoch 15/50\n",
      "79/79 [==============================] - 6s 82ms/step - loss: 0.0923 - acc: 0.9658 - val_loss: 0.4500 - val_acc: 0.8564\n",
      "Epoch 16/50\n",
      "79/79 [==============================] - 7s 86ms/step - loss: 0.0862 - acc: 0.9700 - val_loss: 0.4622 - val_acc: 0.8728\n",
      "Epoch 17/50\n",
      "79/79 [==============================] - 7s 90ms/step - loss: 0.0840 - acc: 0.9707 - val_loss: 0.5352 - val_acc: 0.8602\n",
      "Epoch 18/50\n",
      "79/79 [==============================] - 7s 85ms/step - loss: 0.0693 - acc: 0.9753 - val_loss: 0.5406 - val_acc: 0.8670\n",
      "Epoch 19/50\n",
      "79/79 [==============================] - 7s 91ms/step - loss: 0.0652 - acc: 0.9772 - val_loss: 0.5623 - val_acc: 0.8622\n",
      "Epoch 20/50\n",
      "79/79 [==============================] - 7s 89ms/step - loss: 0.0580 - acc: 0.9826 - val_loss: 0.5623 - val_acc: 0.8576\n",
      "Epoch 21/50\n",
      "79/79 [==============================] - 8s 103ms/step - loss: 0.0519 - acc: 0.9823 - val_loss: 0.5388 - val_acc: 0.8634\n",
      "Epoch 22/50\n",
      "79/79 [==============================] - 7s 90ms/step - loss: 0.0511 - acc: 0.9827 - val_loss: 0.6114 - val_acc: 0.8702\n",
      "Epoch 23/50\n",
      "79/79 [==============================] - 7s 89ms/step - loss: 0.0495 - acc: 0.9833 - val_loss: 0.6492 - val_acc: 0.8654\n",
      "Epoch 24/50\n",
      "79/79 [==============================] - 7s 87ms/step - loss: 0.0370 - acc: 0.9880 - val_loss: 0.5771 - val_acc: 0.8674\n",
      "Epoch 25/50\n",
      "79/79 [==============================] - 7s 86ms/step - loss: 0.0399 - acc: 0.9883 - val_loss: 0.6432 - val_acc: 0.8664\n",
      "Epoch 26/50\n",
      "79/79 [==============================] - 7s 83ms/step - loss: 0.0252 - acc: 0.9912 - val_loss: 0.7761 - val_acc: 0.8608\n",
      "Epoch 27/50\n",
      "79/79 [==============================] - 6s 82ms/step - loss: 0.0336 - acc: 0.9898 - val_loss: 0.7960 - val_acc: 0.8480\n",
      "Epoch 28/50\n",
      "79/79 [==============================] - 7s 85ms/step - loss: 0.0284 - acc: 0.9918 - val_loss: 0.6713 - val_acc: 0.8624\n",
      "Epoch 29/50\n",
      "79/79 [==============================] - 7s 87ms/step - loss: 0.0213 - acc: 0.9937 - val_loss: 0.7109 - val_acc: 0.8652\n",
      "Epoch 30/50\n",
      "79/79 [==============================] - 7s 88ms/step - loss: 0.0221 - acc: 0.9941 - val_loss: 0.7195 - val_acc: 0.8574\n",
      "Epoch 31/50\n",
      "79/79 [==============================] - 7s 89ms/step - loss: 0.0313 - acc: 0.9933 - val_loss: 0.7163 - val_acc: 0.8458\n",
      "Epoch 32/50\n",
      "79/79 [==============================] - 7s 83ms/step - loss: 0.0175 - acc: 0.9956 - val_loss: 0.7077 - val_acc: 0.8430\n",
      "Epoch 33/50\n",
      "79/79 [==============================] - 6s 80ms/step - loss: 0.0101 - acc: 0.9974 - val_loss: 0.8122 - val_acc: 0.8512\n",
      "Epoch 34/50\n",
      "79/79 [==============================] - 7s 88ms/step - loss: 0.0254 - acc: 0.9945 - val_loss: 0.7298 - val_acc: 0.8534\n",
      "Epoch 35/50\n",
      "79/79 [==============================] - 7s 84ms/step - loss: 0.0128 - acc: 0.9965 - val_loss: 0.8190 - val_acc: 0.8598\n",
      "Epoch 36/50\n",
      "79/79 [==============================] - 7s 89ms/step - loss: 0.0094 - acc: 0.9978 - val_loss: 0.8717 - val_acc: 0.8624\n",
      "Epoch 37/50\n",
      "79/79 [==============================] - 7s 86ms/step - loss: 0.0162 - acc: 0.9950 - val_loss: 0.8274 - val_acc: 0.8586\n",
      "Epoch 38/50\n",
      "79/79 [==============================] - 7s 87ms/step - loss: 0.0166 - acc: 0.9971 - val_loss: 0.8721 - val_acc: 0.8630\n",
      "Epoch 39/50\n",
      "79/79 [==============================] - 7s 84ms/step - loss: 0.0126 - acc: 0.9977 - val_loss: 0.9279 - val_acc: 0.8606\n",
      "Epoch 40/50\n",
      "79/79 [==============================] - 7s 86ms/step - loss: 0.0107 - acc: 0.9978 - val_loss: 0.9634 - val_acc: 0.8524\n",
      "Epoch 41/50\n",
      "79/79 [==============================] - 7s 88ms/step - loss: 0.0176 - acc: 0.9968 - val_loss: 0.9527 - val_acc: 0.8532\n",
      "Epoch 42/50\n",
      "79/79 [==============================] - 7s 86ms/step - loss: 0.0098 - acc: 0.9980 - val_loss: 0.9467 - val_acc: 0.8524\n",
      "Epoch 43/50\n",
      "79/79 [==============================] - 7s 85ms/step - loss: 0.0094 - acc: 0.9983 - val_loss: 0.8987 - val_acc: 0.8554\n",
      "Epoch 44/50\n",
      "79/79 [==============================] - 7s 86ms/step - loss: 0.0120 - acc: 0.9974 - val_loss: 0.9719 - val_acc: 0.8504\n",
      "Epoch 45/50\n",
      "79/79 [==============================] - 7s 86ms/step - loss: 4.0370e-04 - acc: 0.9999 - val_loss: 1.2016 - val_acc: 0.8574\n",
      "Epoch 46/50\n",
      "79/79 [==============================] - 7s 94ms/step - loss: 0.0080 - acc: 0.9981 - val_loss: 1.1231 - val_acc: 0.8580\n",
      "Epoch 47/50\n",
      "79/79 [==============================] - 6s 82ms/step - loss: 0.0164 - acc: 0.9977 - val_loss: 1.0766 - val_acc: 0.8540\n",
      "Epoch 48/50\n",
      "79/79 [==============================] - 7s 88ms/step - loss: 0.0155 - acc: 0.9979 - val_loss: 1.0727 - val_acc: 0.8516\n",
      "Epoch 49/50\n",
      "79/79 [==============================] - 7s 91ms/step - loss: 0.0101 - acc: 0.9979 - val_loss: 1.0379 - val_acc: 0.8548\n",
      "Epoch 50/50\n",
      "79/79 [==============================] - 7s 94ms/step - loss: 0.0083 - acc: 0.9977 - val_loss: 0.9840 - val_acc: 0.8490\n"
     ]
    }
   ],
   "source": [
    "from keras.layers import GRU\n",
    "\n",
    "modelIMDBGRU = Sequential()\n",
    "modelIMDBGRU.add(Embedding(max_features, 64))#32\n",
    "modelIMDBGRU.add(GRU(64))#32  # https://keras.io/api/layers/recurrent_layers/gru/\n",
    "#modelIMDBGRU.add(Dropout(0.125)) #+\n",
    "modelIMDBGRU.add(Dense(8, activation='relu')) #added (85%/20ep)\n",
    "modelIMDBGRU.add(Dense(1, activation='sigmoid'))\n",
    "\n",
    "modelIMDBGRU.compile(optimizer='rmsprop',\n",
    "                     loss='binary_crossentropy',\n",
    "                     metrics=['acc'])\n",
    "historyIMDBGRU = modelIMDBGRU.fit(input_train, y_train,\n",
    "                                  epochs=epochs,\n",
    "                                  batch_size=batch_size,\n",
    "                                  validation_split=0.2)\n",
    "\n",
    "modelIMDBGRU.save(models_dir + 'IMDB_GRU.h5')"
   ]
  },
  {
   "cell_type": "code",
   "execution_count": 30,
   "metadata": {},
   "outputs": [],
   "source": [
    "accIMDBGRU = historyIMDBGRU.history['acc']\n",
    "val_accIMDBGRU = historyIMDBGRU.history['val_acc']\n",
    "lossIMDBGRU = historyIMDBGRU.history['loss']\n",
    "val_lossIMDBGRU = historyIMDBGRU.history['val_loss']"
   ]
  },
  {
   "cell_type": "code",
   "execution_count": 31,
   "metadata": {},
   "outputs": [
    {
     "data": {
      "image/png": "[encoded data removed]",
      "text/plain": [
       "<Figure size 432x288 with 1 Axes>"
      ]
     },
     "metadata": {
      "needs_background": "light"
     },
     "output_type": "display_data"
    },
    {
     "data": {
      "image/png": "[encoded data removed]",
      "text/plain": [
       "<Figure size 432x288 with 1 Axes>"
      ]
     },
     "metadata": {
      "needs_background": "light"
     },
     "output_type": "display_data"
    }
   ],
   "source": [
    "PlotAccuracyComparison(accIMDBGRU, val_accIMDBGRU, lab = 'IMDB-GRU')\n",
    "PlotLossComparison(lossIMDBGRU, val_lossIMDBGRU, lab = 'IMDB-GRU')"
   ]
  },
  {
   "cell_type": "code",
   "execution_count": 32,
   "metadata": {},
   "outputs": [
    {
     "data": {
      "image/png": "[encoded data removed]",
      "text/plain": [
       "<Figure size 432x288 with 1 Axes>"
      ]
     },
     "metadata": {
      "needs_background": "light"
     },
     "output_type": "display_data"
    },
    {
     "data": {
      "image/png": "[encoded data removed]",
      "text/plain": [
       "<Figure size 432x288 with 1 Axes>"
      ]
     },
     "metadata": {
      "needs_background": "light"
     },
     "output_type": "display_data"
    }
   ],
   "source": [
    "PlotTwoAccuracyComparison(accIMDBLSTM[:epochs], val_accIMDBLSTM[:epochs], accIMDBGRU[:epochs], val_accIMDBGRU[:epochs], lab1 = 'IMDB-LSTM', lab2 = 'IMDB-GRU')\n",
    "PlotTwoLossComparison(lossIMDBLSTM[:epochs], val_lossIMDBLSTM[:epochs], lossIMDBGRU[:epochs], val_lossIMDBGRU[:epochs], lab1 = 'IMDB-LSTM', lab2 = 'IMDB-GRU')"
   ]
  },
  {
   "cell_type": "markdown",
   "metadata": {},
   "source": [
    "The achieved results for the GRU-based network are similar to those achieved for the LSTM-based network."
   ]
  },
  {
   "cell_type": "markdown",
   "metadata": {},
   "source": [
    "# Advanced techniques for improving the performance and generalization of RNN\n",
    "\n",
    "Let's look at three advanced techniques for improving the performance and generalization power of recurrent neural networks. These concepts will be demonstrated on a weather forecasting problem, where we have access to a timeseries of data points coming from sensors installed on the roof of a building, such as temperature, air pressure, and humidity, which we use to predict what the temperature will be 24 hours after the last data point collected. This is a fairly challenging problem that exemplifies many common difficulties encountered when working with timeseries.\n",
    "\n",
    "We will cover the following techniques:\n",
    "\n",
    "* __Recurrent dropout__, a specific, built-in way to use dropout to fight overfitting in recurrent layers.\n",
    "* __Stacking recurrent layers__, to increase the representational power of the network (at the cost of higher computational loads).\n",
    "* __Bidirectional recurrent layers__, which presents the same information to a recurrent network in different ways, increasing accuracy and mitigating forgetting issues."
   ]
  },
  {
   "cell_type": "markdown",
   "metadata": {},
   "source": [
    "## A temperature forecasting problem\n",
    "\n",
    "Until now, the only sequence data we have covered has been text data, for instance the IMDB dataset and the Reuters dataset. But sequence data can be found in many other problems than just natural language processing (NLP). For a change, we will be playing with a weather timeseries dataset recorded at the Weather Station at the Max-Planck-Institute for Biogeochemistry in Jena, Germany: http://www.bgc-jena.mpg.de/wetter/.\n",
    "\n",
    "In this dataset, fourteen different quantities (air temperature, relative humidity, air pressure, precipitation, wind velocity and direction, global radiation, CO2-concentration, etc.) are recorded every ten minutes, over several years. The original data goes back to 2003, but we limit ourselves to data from 2015-2021. We will use it for learning to work with numerical timeseries and to build a model that takes as input some data from the recent past (a few days worth of data points) and predicts the air temperature 24 hours in the future.\n",
    "\n",
    "First, we must download the dataset from https://www.bgc-jena.mpg.de/wetter/weather_data.html, unzip, consolidate, and upload data to our notebook:"
   ]
  },
  {
   "cell_type": "code",
   "execution_count": 33,
   "metadata": {},
   "outputs": [
    {
     "name": "stdout",
     "output_type": "stream",
     "text": [
      "['01.01.2015 00:20:00,1007.18,2.1,274.7,1.93,98.8,7.11,7.03,0.09,4.35,6.98,1271.28,0.65,1.16,129.3,0,0,0,0,0,14.26,434.2', '01.01.2015 00:30:00,1007.17,2.08,274.67,1.91,98.8,7.1,7.01,0.09,4.34,6.96,1271.4,0.46,1.64,134.1,0,0,0,0,0,14.27,435.8']\n",
      "Data attribute names for this dataset are:\n",
      "['Date Time', 'p (mbar)', 'T (degC)', 'Tpot (K)', 'Tdew (degC)', 'rh (%)', 'VPmax (mbar)', 'VPact (mbar)', 'VPdef (mbar)', 'sh (g/kg)', 'H2OC (mmol/mol)', 'rho (g/m**3)', 'wv (m/s)', 'max. wv (m/s)', 'wd (deg)', 'rain (mm)', 'raining (s)', 'SWDR (W/m˛)', 'PAR (µmol/m˛/s)', 'max. PAR (µmol/m˛/s)', 'Tlog (degC)', 'CO2 (ppm)']\n",
      "Number of training examples:  332694\n"
     ]
    }
   ],
   "source": [
    "import os\n",
    "\n",
    "# You can download sample data from = 'http://home.agh.edu.pl/~horzyk/ml/data/weather/mpi_roof_2015-2021.zip'\n",
    "data_dir = 'C:/ml/data/weather' # Unzip data and change this directory to yours\n",
    "fname = os.path.join(data_dir, 'mpi_roof_2015-2021.csv')\n",
    "\n",
    "f = open(fname)\n",
    "data = f.read()\n",
    "f.close()\n",
    "\n",
    "lines = data.split('\\n')\n",
    "header = lines[0].split(',')\n",
    "lines = lines[1:]\n",
    "print(lines[1:3])\n",
    "\n",
    "print(\"Data attribute names for this dataset are:\")\n",
    "print(header)\n",
    "print(\"Number of training examples: \", len(lines))"
   ]
  },
  {
   "cell_type": "markdown",
   "metadata": {},
   "source": [
    "Let's convert all of these lines of data into a Numpy array:"
   ]
  },
  {
   "cell_type": "code",
   "execution_count": 34,
   "metadata": {},
   "outputs": [],
   "source": [
    "import numpy as np\n",
    "\n",
    "dim = len(header) - 1\n",
    "float_data = np.zeros((len(lines), dim))\n",
    "for i, line in enumerate(lines):\n",
    "    values = [float(x) for x in line.split(',')[1:]]\n",
    "    if len(values) == dim:\n",
    "        float_data[i, :] = values"
   ]
  },
  {
   "cell_type": "markdown",
   "metadata": {},
   "source": [
    "Here is the plot of temperature in degrees Celsius over time:"
   ]
  },
  {
   "cell_type": "code",
   "execution_count": 35,
   "metadata": {},
   "outputs": [
    {
     "data": {
      "image/png": "[encoded data removed]",
      "text/plain": [
       "<Figure size 432x288 with 1 Axes>"
      ]
     },
     "metadata": {
      "needs_background": "light"
     },
     "output_type": "display_data"
    }
   ],
   "source": [
    "from matplotlib import pyplot as plt\n",
    "\n",
    "temp = float_data[:, 1]  # temperature (in degrees Celsius)\n",
    "plt.plot(range(len(temp)), temp)\n",
    "plt.show()"
   ]
  },
  {
   "cell_type": "markdown",
   "metadata": {},
   "source": [
    "On this plot, you can clearly see the yearly periodicity of temperature.\n",
    "\n",
    "Here is a more narrow plot of the first thirty days of temperature data (since the data is recorded every ten minutes, we get 144 data points per day):"
   ]
  },
  {
   "cell_type": "code",
   "execution_count": 36,
   "metadata": {},
   "outputs": [
    {
     "data": {
      "image/png": "[encoded data removed]",
      "text/plain": [
       "<Figure size 432x288 with 1 Axes>"
      ]
     },
     "metadata": {
      "needs_background": "light"
     },
     "output_type": "display_data"
    }
   ],
   "source": [
    "days = 30\n",
    "plt.plot(range(144*days), temp[:144*days])\n",
    "plt.show()"
   ]
  },
  {
   "cell_type": "markdown",
   "metadata": {},
   "source": [
    "On this plot, you can see daily periodicity. We can also note that this thirty-days period must be coming from a fairly cold winter month.\n",
    "\n",
    "If we were trying to predict average temperature for the next month given a few month of past data, the problem would be easy, due to the reliable year-scale periodicity of the data. But looking at the data over a scale of days, the temperature looks a lot more chaotic. Let's find out, whether this timeseries is predictable at a daily scale?"
   ]
  },
  {
   "cell_type": "markdown",
   "metadata": {},
   "source": [
    "## Preparing the data\n",
    "\n",
    "\n",
    "The exact formulation of our problem will be the following: given data going as far back as `lookback` timesteps (a timestep is 10 minutes) and sampled every `steps` timesteps, can we predict the temperature in `delay` timesteps?\n",
    "\n",
    "We will use the following parameter values:\n",
    "\n",
    "* `lookback = 720`, i.e. our observations will go back 5 days.\n",
    "* `steps = 6`, i.e. our observations will be sampled at one data point per hour.\n",
    "* `delay = 144`, i.e. our targets will be 24 hours in the future.\n",
    "\n",
    "To get started, we need to do two things:\n",
    "\n",
    "* Preprocess the data to a format a neural network can ingest. This is easy: the data is already numerical, so we don't need to do any vectorization. However each timeseries in the data is on a different scale (e.g. temperature is typically between -20 and +30, but pressure, measured in mbar, is around 1000). So we will normalize each timeseries independently so that they all take small values on a similar scale.\n",
    "* Write a Python generator that takes our current array of float data and yields batches of data from the recent past, alongside with a target temperature in the future. Since the samples in our dataset are highly redundant (e.g. sample `N` and sample `N + 1` will have most of their timesteps in common), it would be very wasteful to explicitly allocate every sample. Instead, we will generate the samples on the fly using the original data.\n",
    "\n",
    "We preprocess the data by subtracting the mean of each timeseries and dividing by the standard deviation. We plan on using the first 200,000 timesteps as training data, so we compute the mean and standard deviation only on this fraction of the data:"
   ]
  },
  {
   "cell_type": "code",
   "execution_count": 37,
   "metadata": {},
   "outputs": [],
   "source": [
    "mean = float_data[:200000].mean(axis=0)\n",
    "float_data -= mean\n",
    "std = float_data[:200000].std(axis=0)\n",
    "float_data /= std"
   ]
  },
  {
   "cell_type": "markdown",
   "metadata": {},
   "source": [
    "\n",
    "Now here is the data generator that we will use. It yields a tuple `(samples, targets)` where `samples` is one batch of input data and `targets` is the corresponding array of target temperatures. It takes the following arguments:\n",
    "\n",
    "* `data`: The original array of floating point data, which we just normalized in the code snippet above.\n",
    "* `lookback`: How many timesteps back should our input data go.\n",
    "* `delay`: How many timesteps in the future should our target be.\n",
    "* `min_index` and `max_index`: Indices in the `data` array that delimit which timesteps to draw from. This is useful for keeping a segment of the data for validation and another one for testing.\n",
    "* `shuffle`: Whether to shuffle our samples or draw them in chronological order.\n",
    "* `batch_size`: The number of samples per batch.\n",
    "* `step`: The period, in timesteps, at which we sample data. We will set it 6 in order to draw one data point every hour."
   ]
  },
  {
   "cell_type": "code",
   "execution_count": 38,
   "metadata": {},
   "outputs": [],
   "source": [
    "def generator(data, lookback, delay, min_index, max_index, shuffle=False, batch_size=128, step=6):\n",
    "    if max_index is None:\n",
    "        max_index = len(data) - delay - 1\n",
    "    i = min_index + lookback\n",
    "    while 1:\n",
    "        if shuffle:\n",
    "            rows = np.random.randint(min_index + lookback, max_index, size=batch_size)\n",
    "        else:\n",
    "            if i + batch_size >= max_index:\n",
    "                i = min_index + lookback\n",
    "            rows = np.arange(i, min(i + batch_size, max_index))\n",
    "            i += len(rows)\n",
    "\n",
    "        samples = np.zeros((len(rows), lookback // step, data.shape[-1]))\n",
    "        targets = np.zeros((len(rows),))\n",
    "        for j, row in enumerate(rows):\n",
    "            indices = range(rows[j] - lookback, rows[j], step)\n",
    "            samples[j] = data[indices]\n",
    "            targets[j] = data[rows[j] + delay][1]\n",
    "        yield samples, targets"
   ]
  },
  {
   "cell_type": "markdown",
   "metadata": {},
   "source": [
    "Now let's use our abstract generator function to instantiate three generators, one for training, one for validation and one for testing. Each will look at different temporal segments of the original data: the training generator looks at the first 200,000 timesteps, the validation generator looks at the following 100,000, and the test generator looks at the remainder."
   ]
  },
  {
   "cell_type": "code",
   "execution_count": 39,
   "metadata": {},
   "outputs": [],
   "source": [
    "lookback = 1440\n",
    "step = 6\n",
    "delay = 144\n",
    "batch_size = 128\n",
    "\n",
    "train_gen = generator(float_data,\n",
    "                      lookback=lookback,\n",
    "                      delay=delay,\n",
    "                      min_index=0,\n",
    "                      max_index=200000,\n",
    "                      shuffle=True,\n",
    "                      step=step, \n",
    "                      batch_size=batch_size)\n",
    "val_gen = generator(float_data,\n",
    "                    lookback=lookback,\n",
    "                    delay=delay,\n",
    "                    min_index=200001,\n",
    "                    max_index=300000,\n",
    "                    step=step,\n",
    "                    batch_size=batch_size)\n",
    "test_gen = generator(float_data,\n",
    "                     lookback=lookback,\n",
    "                     delay=delay,\n",
    "                     min_index=300001,\n",
    "                     max_index=None,\n",
    "                     step=step,\n",
    "                     batch_size=batch_size)\n",
    "\n",
    "# This is how many steps to draw from `val_gen` in order to see the whole validation set:\n",
    "val_steps = (300000 - 200001 - lookback) // batch_size\n",
    "\n",
    "# This is how many steps to draw from `test_gen` in order to see the whole test set:\n",
    "test_steps = (len(float_data) - 300001 - lookback) // batch_size"
   ]
  },
  {
   "cell_type": "markdown",
   "metadata": {},
   "source": [
    "## A common sense, non-machine learning baseline\n",
    "\n",
    "Before we start leveraging black-box deep learning models to solve our temperature prediction problem, let's try out a simple common-sense approach. It will serve as a sanity check, and it will establish a baseline that we will have to beat in order to demonstrate the usefulness of more advanced machine learning models. Such common-sense baselines can be very useful when approaching a new problem for which there is no known solution yet. A classic example is that of unbalanced classification tasks, where some classes can be much more common than others. If your dataset contains 90% of instances of class A and 10% of instances of class B, then a common sense approach to the classification task would be to always predict \"A\" when presented with a new sample. Such a classifier would be 90% accurate overall, and any learning-based approach should therefore beat this 90% score in order to demonstrate usefulness. Sometimes such elementary baseline can prove surprisingly hard to beat.\n",
    "\n",
    "In our case, the temperature timeseries can safely be assumed to be continuous (the temperatures tomorrow are likely to be close to the temperatures today) as well as periodical with a daily period. Thus a common sense approach would be to always predict that the temperature 24 hours from now will be equal to the temperature right now. Let's evaluate this approach, using the Mean Absolute Error metric (MAE). Mean Absolute Error is simply equal to:\n",
    "\n",
    "`np.mean(np.abs(preds - targets))`\n",
    "\n",
    "Here's our evaluation loop:"
   ]
  },
  {
   "cell_type": "code",
   "execution_count": 40,
   "metadata": {},
   "outputs": [
    {
     "name": "stdout",
     "output_type": "stream",
     "text": [
      "0.3403956845000855\n"
     ]
    }
   ],
   "source": [
    "def evaluate_naive_method():\n",
    "    batch_maes = []\n",
    "    for step in range(val_steps):\n",
    "        samples, targets = next(val_gen)\n",
    "        preds = samples[:, -1, 1]\n",
    "        mae = np.mean(np.abs(preds - targets))\n",
    "        batch_maes.append(mae)\n",
    "    global mae_error\n",
    "    mae_error = np.mean(batch_maes)\n",
    "    print(mae_error)\n",
    "    \n",
    "evaluate_naive_method()"
   ]
  },
  {
   "cell_type": "code",
   "execution_count": 41,
   "metadata": {},
   "outputs": [
    {
     "name": "stdout",
     "output_type": "stream",
     "text": [
      "[-1.01672015 -1.02273289 -1.02513799 ... -0.27955804 -0.30120391\n",
      " -1.27526804]\n",
      "0.9809440029594403\n"
     ]
    }
   ],
   "source": [
    "print(temp[:])\n",
    "temperature_std = np.std(temp[:])\n",
    "print(temperature_std)"
   ]
  },
  {
   "cell_type": "code",
   "execution_count": 42,
   "metadata": {},
   "outputs": [
    {
     "name": "stdout",
     "output_type": "stream",
     "text": [
      "0.33390910534363255\n"
     ]
    }
   ],
   "source": [
    "avgerror = mae_error * temperature_std\n",
    "print(avgerror)"
   ]
  },
  {
   "cell_type": "markdown",
   "metadata": {},
   "source": [
    "It yields a MAE of 0.33. Since our temperature data has been normalized to be centered on 0 and have a standard deviation of one, this number is not immediately interpretable. It translates to an average absolute error of `0.34 * temperature_std` degrees Celsius, i.e. 0.33˚C. That's a fairly large average absolute error - now the game is to leverage our knowledge of deep learning to do better. "
   ]
  },
  {
   "cell_type": "markdown",
   "metadata": {},
   "source": [
    "## A basic machine learning approach\n",
    "\n",
    "In the same way that it is useful to establish a common sense baseline before trying machine learning approaches and try simple and cheap machine learning models (such as small densely-connected networks) before looking into complicated and computationally expensive models such as RNNs. This is the best way to make sure that any further complexity we throw at the problem later on is legitimate and delivers real benefits.\n",
    "\n",
    "Here is a simply fully-connected model in which we start by flattening the data, then run it through two `Dense` layers. Note the lack of activation function on the last `Dense` layer, which is typical for a regression problem. We use MAE as the loss. Since we are evaluating on the exact same data and with the exact same metric as with our common sense approach, the results will be directly comparable."
   ]
  },
  {
   "cell_type": "code",
   "execution_count": 43,
   "metadata": {},
   "outputs": [
    {
     "name": "stdout",
     "output_type": "stream",
     "text": [
      "Epoch 1/50\n",
      "500/500 [==============================] - 13s 26ms/step - loss: 1.4954 - val_loss: 0.7898\n",
      "Epoch 2/50\n",
      "500/500 [==============================] - 13s 26ms/step - loss: 0.3842 - val_loss: 0.3925\n",
      "Epoch 3/50\n",
      "500/500 [==============================] - 13s 26ms/step - loss: 0.3195 - val_loss: 0.5065\n",
      "Epoch 4/50\n",
      "500/500 [==============================] - 13s 25ms/step - loss: 0.3081 - val_loss: 0.3764\n",
      "Epoch 5/50\n",
      "500/500 [==============================] - 12s 23ms/step - loss: 0.2992 - val_loss: 0.4142\n",
      "Epoch 6/50\n",
      "500/500 [==============================] - 11s 23ms/step - loss: 0.2991 - val_loss: 0.4020\n",
      "Epoch 7/50\n",
      "500/500 [==============================] - 12s 24ms/step - loss: 0.3013 - val_loss: 0.4111\n",
      "Epoch 8/50\n",
      "500/500 [==============================] - 14s 28ms/step - loss: 0.3014 - val_loss: 0.4148\n",
      "Epoch 9/50\n",
      "500/500 [==============================] - 13s 26ms/step - loss: 0.3042 - val_loss: 0.4346\n",
      "Epoch 10/50\n",
      "500/500 [==============================] - 13s 25ms/step - loss: 0.2980 - val_loss: 0.4156\n",
      "Epoch 11/50\n",
      "500/500 [==============================] - 13s 25ms/step - loss: 0.3073 - val_loss: 0.4343\n",
      "Epoch 12/50\n",
      "500/500 [==============================] - 12s 25ms/step - loss: 0.3080 - val_loss: 0.4257\n",
      "Epoch 13/50\n",
      "500/500 [==============================] - 13s 26ms/step - loss: 0.3085 - val_loss: 0.4392\n",
      "Epoch 14/50\n",
      "500/500 [==============================] - 14s 28ms/step - loss: 0.3075 - val_loss: 0.4318\n",
      "Epoch 15/50\n",
      "500/500 [==============================] - 12s 23ms/step - loss: 0.3119 - val_loss: 0.6074\n",
      "Epoch 16/50\n",
      "500/500 [==============================] - 12s 25ms/step - loss: 0.3230 - val_loss: 0.4324\n",
      "Epoch 17/50\n",
      "500/500 [==============================] - 11s 23ms/step - loss: 0.3178 - val_loss: 0.5743\n",
      "Epoch 18/50\n",
      "500/500 [==============================] - 12s 24ms/step - loss: 0.3273 - val_loss: 0.4593\n",
      "Epoch 19/50\n",
      "500/500 [==============================] - 11s 23ms/step - loss: 0.3389 - val_loss: 0.4613\n",
      "Epoch 20/50\n",
      "500/500 [==============================] - 12s 23ms/step - loss: 0.3382 - val_loss: 0.4994\n",
      "Epoch 21/50\n",
      "500/500 [==============================] - 12s 24ms/step - loss: 0.3380 - val_loss: 0.5264\n",
      "Epoch 22/50\n",
      "500/500 [==============================] - 12s 24ms/step - loss: 0.3420 - val_loss: 0.4803\n",
      "Epoch 23/50\n",
      "500/500 [==============================] - 11s 22ms/step - loss: 0.3524 - val_loss: 0.4930\n",
      "Epoch 24/50\n",
      "500/500 [==============================] - 12s 23ms/step - loss: 0.3623 - val_loss: 0.4893\n",
      "Epoch 25/50\n",
      "500/500 [==============================] - 12s 23ms/step - loss: 0.3621 - val_loss: 0.5410\n",
      "Epoch 26/50\n",
      "500/500 [==============================] - 12s 24ms/step - loss: 0.3713 - val_loss: 0.4871\n",
      "Epoch 27/50\n",
      "500/500 [==============================] - 11s 22ms/step - loss: 0.3573 - val_loss: 0.5200\n",
      "Epoch 28/50\n",
      "500/500 [==============================] - 11s 22ms/step - loss: 0.3724 - val_loss: 0.4676\n",
      "Epoch 29/50\n",
      "500/500 [==============================] - 11s 22ms/step - loss: 0.3831 - val_loss: 0.5181\n",
      "Epoch 30/50\n",
      "500/500 [==============================] - 11s 22ms/step - loss: 0.3796 - val_loss: 0.6082\n",
      "Epoch 31/50\n",
      "500/500 [==============================] - 11s 22ms/step - loss: 0.3921 - val_loss: 0.4681\n",
      "Epoch 32/50\n",
      "500/500 [==============================] - 11s 22ms/step - loss: 0.3965 - val_loss: 0.4776\n",
      "Epoch 33/50\n",
      "500/500 [==============================] - 11s 21ms/step - loss: 0.3939 - val_loss: 0.5111\n",
      "Epoch 34/50\n",
      "500/500 [==============================] - 11s 21ms/step - loss: 0.3976 - val_loss: 0.4697\n",
      "Epoch 35/50\n",
      "500/500 [==============================] - 11s 22ms/step - loss: 0.4057 - val_loss: 0.4837\n",
      "Epoch 36/50\n",
      "500/500 [==============================] - 11s 22ms/step - loss: 0.4028 - val_loss: 0.4684\n",
      "Epoch 37/50\n",
      "500/500 [==============================] - 11s 21ms/step - loss: 0.4077 - val_loss: 0.5102\n",
      "Epoch 38/50\n",
      "500/500 [==============================] - 11s 22ms/step - loss: 0.4162 - val_loss: 0.5421\n",
      "Epoch 39/50\n",
      "500/500 [==============================] - 11s 21ms/step - loss: 0.4512 - val_loss: 0.5249\n",
      "Epoch 40/50\n",
      "500/500 [==============================] - 11s 22ms/step - loss: 0.4241 - val_loss: 0.8787\n",
      "Epoch 41/50\n",
      "500/500 [==============================] - 11s 22ms/step - loss: 0.4389 - val_loss: 0.4968\n",
      "Epoch 42/50\n",
      "500/500 [==============================] - 11s 21ms/step - loss: 0.4509 - val_loss: 0.5196\n",
      "Epoch 43/50\n",
      "500/500 [==============================] - 11s 22ms/step - loss: 0.4450 - val_loss: 0.6935\n",
      "Epoch 44/50\n",
      "500/500 [==============================] - 11s 21ms/step - loss: 0.4465 - val_loss: 0.5476\n",
      "Epoch 45/50\n",
      "500/500 [==============================] - 11s 21ms/step - loss: 0.4520 - val_loss: 0.7900\n",
      "Epoch 46/50\n",
      "500/500 [==============================] - 10s 21ms/step - loss: 0.4671 - val_loss: 0.6952\n",
      "Epoch 47/50\n",
      "500/500 [==============================] - 11s 22ms/step - loss: 0.4698 - val_loss: 0.6628\n",
      "Epoch 48/50\n",
      "500/500 [==============================] - 11s 22ms/step - loss: 0.4702 - val_loss: 0.5495\n",
      "Epoch 49/50\n",
      "500/500 [==============================] - 11s 22ms/step - loss: 0.4930 - val_loss: 0.6756\n",
      "Epoch 50/50\n",
      "500/500 [==============================] - 11s 21ms/step - loss: 0.4887 - val_loss: 0.5537\n"
     ]
    }
   ],
   "source": [
    "from keras.models import Sequential\n",
    "from keras import layers\n",
    "#from keras.optimizers import RMSprop\n",
    "import tensorflow\n",
    "from tensorflow.keras.optimizers import RMSprop\n",
    "\n",
    "epochs = 50\n",
    "\n",
    "modelTEMPDense = Sequential()\n",
    "modelTEMPDense.add(layers.Flatten(input_shape=(lookback // step, float_data.shape[-1])))\n",
    "#modelTEMPDense.add(layers.Dropout(0.125)) #+\n",
    "modelTEMPDense.add(layers.Dense(64, activation='relu')) #32\n",
    "modelTEMPDense.add(layers.Dense(1))\n",
    "\n",
    "modelTEMPDense.compile(optimizer=RMSprop(), loss='mae')\n",
    "#historyTEMPDense = modelTEMPDense.fit_generator(train_gen,\n",
    "historyTEMPDense = modelTEMPDense.fit(train_gen,\n",
    "                                                steps_per_epoch=500,\n",
    "                                                epochs=epochs,\n",
    "                                                validation_data=val_gen,\n",
    "                                                validation_steps=val_steps)\n",
    "\n",
    "modelTEMPDense.save(models_dir + 'TEMP-Dense.h5')"
   ]
  },
  {
   "cell_type": "markdown",
   "metadata": {},
   "source": [
    "Let's display the accuracy and loss curves for validation and training:"
   ]
  },
  {
   "cell_type": "code",
   "execution_count": 44,
   "metadata": {},
   "outputs": [
    {
     "data": {
      "image/png": "[encoded data removed]",
      "text/plain": [
       "<Figure size 432x288 with 1 Axes>"
      ]
     },
     "metadata": {
      "needs_background": "light"
     },
     "output_type": "display_data"
    }
   ],
   "source": [
    "lossTEMPDense = historyTEMPDense.history['loss']\n",
    "val_lossTEMPDense = historyTEMPDense.history['val_loss']\n",
    "\n",
    "PlotLossComparison(lossTEMPDense, val_lossTEMPDense, lab = 'TEMP-Dense')"
   ]
  },
  {
   "cell_type": "markdown",
   "metadata": {},
   "source": [
    "\n",
    "Some of our validation losses get close to the no-learning baseline, but not very reliably. This goes to show the merit of having had this baseline in the first place: it turns out not to be so easy to outperform. Our common sense contains already a lot of valuable information that a machine learning model does not have access to.\n",
    "\n",
    "You may ask, if there exists a simple, well-performing model to go from the data to the targets (our common sense baseline), why doesn't the model we are training find it and improve on it? Simply put: because this simple solution is not what our training setup is looking for. The space of models in which we are searching for a solution, i.e. our hypothesis space, is the space of all possible 2-layer networks with the configuration that we defined. These networks are already fairly complicated. When looking for a solution with a space of complicated models, the simple well-performing baseline might be unlearnable, even if it's technically part of the hypothesis space. That is a pretty significant limitation of machine learning in general: unless the learning algorithm is hard-coded to look for a specific kind of simple model, parameter learning can sometimes fail to find a simple solution to a simple problem."
   ]
  },
  {
   "cell_type": "markdown",
   "metadata": {},
   "source": [
    "## A first recurrent baseline\n",
    "\n",
    "Our first fully-connected approach didn't do so well, but that doesn't mean machine learning is not applicable to our problem. The approach above consisted in first flattening the timeseries, which removed the notion of time from the input data. Let's look at our data as what it is: a sequence, where causality and order matter. We will try a recurrent sequence processing model - it should be the perfect fit for such sequence data, precisely because it does exploit the temporal ordering of data points, unlike our first approach.\n",
    "\n",
    "We will use the `GRU` layer (which stands for __Gated Recurrent Unit__), developed by Cho et al. in 2014. `GRU` layers work by leveraging the same principle as LSTM, but they are somewhat streamlined and thus cheaper to run, albeit they may not have quite as much representational power as LSTM layers. This trade-off between computational expensiveness and representational power is seen everywhere in machine learning."
   ]
  },
  {
   "cell_type": "code",
   "execution_count": 45,
   "metadata": {},
   "outputs": [
    {
     "name": "stdout",
     "output_type": "stream",
     "text": [
      "Epoch 1/50\n",
      "500/500 [==============================] - 18s 32ms/step - loss: 0.3113 - val_loss: 0.3039\n",
      "Epoch 2/50\n",
      "500/500 [==============================] - 16s 31ms/step - loss: 0.2869 - val_loss: 0.3048\n",
      "Epoch 3/50\n",
      "500/500 [==============================] - 16s 31ms/step - loss: 0.2763 - val_loss: 0.2902\n",
      "Epoch 4/50\n",
      "500/500 [==============================] - 16s 32ms/step - loss: 0.2680 - val_loss: 0.2935\n",
      "Epoch 5/50\n",
      "500/500 [==============================] - 16s 32ms/step - loss: 0.2609 - val_loss: 0.2926\n",
      "Epoch 6/50\n",
      "500/500 [==============================] - 16s 32ms/step - loss: 0.2559 - val_loss: 0.2979\n",
      "Epoch 7/50\n",
      "500/500 [==============================] - 16s 32ms/step - loss: 0.2489 - val_loss: 0.3006\n",
      "Epoch 8/50\n",
      "500/500 [==============================] - 16s 31ms/step - loss: 0.2415 - val_loss: 0.3031\n",
      "Epoch 9/50\n",
      "500/500 [==============================] - 16s 32ms/step - loss: 0.2304 - val_loss: 0.3037\n",
      "Epoch 10/50\n",
      "500/500 [==============================] - 17s 33ms/step - loss: 0.2197 - val_loss: 0.3185\n",
      "Epoch 11/50\n",
      "500/500 [==============================] - 17s 33ms/step - loss: 0.2120 - val_loss: 0.3317\n",
      "Epoch 12/50\n",
      "500/500 [==============================] - 17s 34ms/step - loss: 0.2043 - val_loss: 0.3277\n",
      "Epoch 13/50\n",
      "500/500 [==============================] - 17s 34ms/step - loss: 0.1988 - val_loss: 0.3306\n",
      "Epoch 14/50\n",
      "500/500 [==============================] - 16s 32ms/step - loss: 0.1925 - val_loss: 0.3336\n",
      "Epoch 15/50\n",
      "500/500 [==============================] - 16s 31ms/step - loss: 0.1871 - val_loss: 0.3419\n",
      "Epoch 16/50\n",
      "500/500 [==============================] - 16s 31ms/step - loss: 0.1817 - val_loss: 0.3299\n",
      "Epoch 17/50\n",
      "500/500 [==============================] - 16s 33ms/step - loss: 0.1780 - val_loss: 0.3365\n",
      "Epoch 18/50\n",
      "500/500 [==============================] - 16s 31ms/step - loss: 0.1727 - val_loss: 0.3377\n",
      "Epoch 19/50\n",
      "500/500 [==============================] - 16s 31ms/step - loss: 0.1698 - val_loss: 0.3415\n",
      "Epoch 20/50\n",
      "500/500 [==============================] - 16s 32ms/step - loss: 0.1665 - val_loss: 0.3411\n",
      "Epoch 21/50\n",
      "500/500 [==============================] - 16s 32ms/step - loss: 0.1629 - val_loss: 0.3396\n",
      "Epoch 22/50\n",
      "500/500 [==============================] - 15s 31ms/step - loss: 0.1599 - val_loss: 0.3480\n",
      "Epoch 23/50\n",
      "500/500 [==============================] - 16s 31ms/step - loss: 0.1590 - val_loss: 0.3480\n",
      "Epoch 24/50\n",
      "500/500 [==============================] - 16s 32ms/step - loss: 0.1552 - val_loss: 0.3444\n",
      "Epoch 25/50\n",
      "500/500 [==============================] - 16s 33ms/step - loss: 0.1534 - val_loss: 0.3455\n",
      "Epoch 26/50\n",
      "500/500 [==============================] - 17s 33ms/step - loss: 0.1511 - val_loss: 0.3453\n",
      "Epoch 27/50\n",
      "500/500 [==============================] - 26s 52ms/step - loss: 0.1486 - val_loss: 0.3490\n",
      "Epoch 28/50\n",
      "500/500 [==============================] - 37s 73ms/step - loss: 0.1468 - val_loss: 0.3491\n",
      "Epoch 29/50\n",
      "500/500 [==============================] - 36s 73ms/step - loss: 0.1449 - val_loss: 0.3521\n",
      "Epoch 30/50\n",
      "500/500 [==============================] - 37s 74ms/step - loss: 0.1435 - val_loss: 0.3506\n",
      "Epoch 31/50\n",
      "500/500 [==============================] - 37s 73ms/step - loss: 0.1422 - val_loss: 0.3491\n",
      "Epoch 32/50\n",
      "500/500 [==============================] - 37s 73ms/step - loss: 0.1406 - val_loss: 0.3528\n",
      "Epoch 33/50\n",
      "500/500 [==============================] - 36s 73ms/step - loss: 0.1388 - val_loss: 0.3544\n",
      "Epoch 34/50\n",
      "500/500 [==============================] - 37s 74ms/step - loss: 0.1380 - val_loss: 0.3536\n",
      "Epoch 35/50\n",
      "500/500 [==============================] - 37s 75ms/step - loss: 0.1367 - val_loss: 0.3529\n",
      "Epoch 36/50\n",
      "500/500 [==============================] - 37s 74ms/step - loss: 0.1355 - val_loss: 0.3522\n",
      "Epoch 37/50\n",
      "500/500 [==============================] - 37s 74ms/step - loss: 0.1347 - val_loss: 0.3562\n",
      "Epoch 38/50\n",
      "500/500 [==============================] - 37s 74ms/step - loss: 0.1325 - val_loss: 0.3527\n",
      "Epoch 39/50\n",
      "500/500 [==============================] - 37s 74ms/step - loss: 0.1318 - val_loss: 0.3530\n",
      "Epoch 40/50\n",
      "500/500 [==============================] - 38s 76ms/step - loss: 0.1311 - val_loss: 0.3575\n",
      "Epoch 41/50\n",
      "500/500 [==============================] - 37s 74ms/step - loss: 0.1300 - val_loss: 0.3520\n",
      "Epoch 42/50\n",
      "500/500 [==============================] - 37s 74ms/step - loss: 0.1292 - val_loss: 0.3551\n",
      "Epoch 43/50\n",
      "500/500 [==============================] - 37s 75ms/step - loss: 0.1286 - val_loss: 0.3501\n",
      "Epoch 44/50\n",
      "500/500 [==============================] - 37s 74ms/step - loss: 0.1277 - val_loss: 0.3540\n",
      "Epoch 45/50\n",
      "500/500 [==============================] - 37s 73ms/step - loss: 0.1262 - val_loss: 0.3572\n",
      "Epoch 46/50\n",
      "500/500 [==============================] - 37s 75ms/step - loss: 0.1254 - val_loss: 0.3564\n",
      "Epoch 47/50\n",
      "500/500 [==============================] - 37s 75ms/step - loss: 0.1248 - val_loss: 0.3597\n",
      "Epoch 48/50\n",
      "500/500 [==============================] - 37s 74ms/step - loss: 0.1242 - val_loss: 0.3564\n",
      "Epoch 49/50\n",
      "500/500 [==============================] - 37s 74ms/step - loss: 0.1235 - val_loss: 0.3570\n",
      "Epoch 50/50\n",
      "500/500 [==============================] - 37s 75ms/step - loss: 0.1231 - val_loss: 0.3595\n"
     ]
    }
   ],
   "source": [
    "from keras.models import Sequential\n",
    "from keras import layers\n",
    "#from keras.optimizers import RMSprop\n",
    "import tensorflow\n",
    "from tensorflow.keras.optimizers import RMSprop\n",
    "\n",
    "modelTEMPGRU = Sequential()\n",
    "modelTEMPGRU.add(layers.GRU(64, input_shape=(None, float_data.shape[-1]))) #32\n",
    "modelTEMPGRU.add(layers.Dropout(0.125)) #+\n",
    "modelTEMPGRU.add(layers.Dense(8, activation='relu')) #added (33%/20ep)\n",
    "modelTEMPGRU.add(layers.Dense(1))\n",
    "\n",
    "modelTEMPGRU.compile(optimizer=RMSprop(), loss='mae')\n",
    "#historyTEMPGRU = modelTEMPGRU.fit_generator(train_gen,\n",
    "historyTEMPGRU = modelTEMPGRU.fit(train_gen,\n",
    "                                            steps_per_epoch=500,\n",
    "                                            epochs=epochs,\n",
    "                                            validation_data=val_gen,\n",
    "                                            validation_steps=val_steps)\n",
    "\n",
    "modelTEMPGRU.save(models_dir + 'TEMP-GRU.h5')"
   ]
  },
  {
   "cell_type": "markdown",
   "metadata": {},
   "source": [
    "Let's look at our results:"
   ]
  },
  {
   "cell_type": "code",
   "execution_count": 46,
   "metadata": {},
   "outputs": [
    {
     "data": {
      "image/png": "[encoded data removed]",
      "text/plain": [
       "<Figure size 432x288 with 1 Axes>"
      ]
     },
     "metadata": {
      "needs_background": "light"
     },
     "output_type": "display_data"
    }
   ],
   "source": [
    "lossTEMPGRU = historyTEMPGRU.history['loss']\n",
    "val_lossTEMPGRU = historyTEMPGRU.history['val_loss']\n",
    "\n",
    "PlotLossComparison(lossTEMPGRU, val_lossTEMPGRU, lab = 'TEMP-GRU')"
   ]
  },
  {
   "cell_type": "markdown",
   "metadata": {},
   "source": [
    "Here is the comparison of these two models:"
   ]
  },
  {
   "cell_type": "code",
   "execution_count": 47,
   "metadata": {},
   "outputs": [
    {
     "data": {
      "image/png": "[encoded data removed]",
      "text/plain": [
       "<Figure size 432x288 with 1 Axes>"
      ]
     },
     "metadata": {
      "needs_background": "light"
     },
     "output_type": "display_data"
    }
   ],
   "source": [
    "PlotTwoLossComparison(lossTEMPDense[:epochs], val_lossTEMPDense[:epochs], lossTEMPGRU[:epochs], val_lossTEMPGRU[:epochs], lab1 = 'TEMP-Dense', lab2 = 'TEMP-GRU')"
   ]
  },
  {
   "cell_type": "code",
   "execution_count": 48,
   "metadata": {},
   "outputs": [
    {
     "name": "stdout",
     "output_type": "stream",
     "text": [
      "0.35266973656002437\n"
     ]
    }
   ],
   "source": [
    "avgerror = val_lossTEMPGRU[-1] * temperature_std\n",
    "print(avgerror)"
   ]
  },
  {
   "cell_type": "markdown",
   "metadata": {},
   "source": [
    "We see that the GRU model behaves much better than the Dense model! We are also able to beat the common sense baseline, such demonstrating the value of machine learning here, as well as the superiority of recurrent networks compared to sequence-flattening dense networks on this type of task.\n",
    "\n",
    "Our new validation MAE of ~0.24 translates to a mean absolute error of 0.24˚C after de-normalization in the 10th epoch, next, the training process overfitted, but we probably still have a bit of margin for improvement."
   ]
  },
  {
   "cell_type": "markdown",
   "metadata": {},
   "source": [
    "## Using recurrent dropout to fight overfitting\n",
    "\n",
    "It is evident from our training and validation curves that our model is overfitting: the training and validation losses start diverging considerably after a few epochs (growing variance of the model). You are already familiar with a classic technique for fighting this phenomenon: dropout, consisting in randomly zeroing-out input units of a layer in order to break happenstance correlations in the training data that the layer is exposed to. How to correctly apply dropout in recurrent networks, however, is not a trivial question. It has long been known that applying dropout before a recurrent layer hinders learning rather than helping with regularization. In 2015, Yarin Gal, as part of his Ph.D. thesis on Bayesian deep learning, determined the proper way to use dropout with a recurrent network: the same dropout mask (the same pattern of dropped units) should be applied at every timestep, instead of a dropout mask that would vary randomly from timestep to timestep. What's more: in order to regularize the representations formed by the recurrent gates of layers such as GRU and LSTM, a temporally constant dropout mask should be applied to the inner recurrent activations of the layer (a \"recurrent\" dropout mask). Using the same dropout mask at every timestep allows the network to properly propagate its learning error through time; a temporally random dropout mask would instead disrupt this error signal and be harmful to the learning process.\n",
    "\n",
    "Yarin Gal did his research using Keras and helped build this mechanism directly into Keras recurrent layers. Every recurrent layer in Keras has two dropout-related arguments: `dropout`, a float specifying the dropout rate for input units of the layer, and `recurrent_dropout`, specifying the dropout rate of the recurrent units. Let's add them to our GRU layer and see how it impacts overfitting. Because networks being regularized with dropout always take longer to fully converge, we train our network for twice as many epochs."
   ]
  },
  {
   "cell_type": "code",
   "execution_count": null,
   "metadata": {},
   "outputs": [
    {
     "name": "stdout",
     "output_type": "stream",
     "text": [
      "WARNING:tensorflow:Layer gru_2 will not use cuDNN kernels since it doesn't meet the criteria. It will use a generic GPU kernel as fallback when running on GPU.\n",
      "Epoch 1/50\n",
      "500/500 [==============================] - 1187s 2s/step - loss: 0.3201 - val_loss: 0.3189\n",
      "Epoch 2/50\n",
      "500/500 [==============================] - 591s 1s/step - loss: 0.2957 - val_loss: 0.3134\n",
      "Epoch 3/50\n",
      "500/500 [==============================] - 686s 1s/step - loss: 0.2864 - val_loss: 0.3113\n",
      "Epoch 4/50\n",
      "500/500 [==============================] - 606s 1s/step - loss: 0.2782 - val_loss: 0.3045\n",
      "Epoch 5/50\n",
      "500/500 [==============================] - 614s 1s/step - loss: 0.2720 - val_loss: 0.3046\n",
      "Epoch 6/50\n",
      "500/500 [==============================] - 623s 1s/step - loss: 0.2645 - val_loss: 0.3078\n",
      "Epoch 7/50\n",
      "500/500 [==============================] - 628s 1s/step - loss: 0.2563 - val_loss: 0.3257\n",
      "Epoch 8/50\n",
      "500/500 [==============================] - 618s 1s/step - loss: 0.2482 - val_loss: 0.3221\n",
      "Epoch 9/50\n",
      "500/500 [==============================] - 623s 1s/step - loss: 0.2426 - val_loss: 0.3303\n",
      "Epoch 10/50\n",
      "500/500 [==============================] - 618s 1s/step - loss: 0.2359 - val_loss: 0.3370\n",
      "Epoch 11/50\n",
      "500/500 [==============================] - 618s 1s/step - loss: 0.2290 - val_loss: 0.3316\n",
      "Epoch 12/50\n",
      "104/500 [=====>........................] - ETA: 6:45 - loss: 0.2264"
     ]
    }
   ],
   "source": [
    "from keras.models import Sequential\n",
    "from keras import layers\n",
    "#from keras.optimizers import RMSprop\n",
    "import tensorflow\n",
    "from tensorflow.keras.optimizers import RMSprop\n",
    "from keras.layers import BatchNormalization\n",
    "from keras import regularizers\n",
    "\n",
    "epochs = 50\n",
    "\n",
    "modelTEMPDropoutGRU = Sequential()\n",
    "modelTEMPDropoutGRU.add(layers.GRU(64, dropout=0.05, recurrent_dropout=0.05, \n",
    "                                   input_shape=(None, float_data.shape[-1]),\n",
    "                                   kernel_regularizer=regularizers.l2(0.001))) #32\n",
    "#modelTEMPDropoutGRU.add(layers.Dropout(0.125)) #+\n",
    "modelTEMPDropoutGRU.add(layers.Dense(8, activation='relu')) #added (34%/40ep)\n",
    "modelTEMPDropoutGRU.add(layers.Dense(1))\n",
    "\n",
    "modelTEMPDropoutGRU.compile(optimizer=RMSprop(), loss='mae')\n",
    "\n",
    "#historyTEMPDropoutGRU = modelTEMPDropoutGRU.fit_generator(train_gen,\n",
    "historyTEMPDropoutGRU = modelTEMPDropoutGRU.fit(train_gen,\n",
    "                                                          steps_per_epoch=500,\n",
    "                                                          epochs=epochs,\n",
    "                                                          validation_data=val_gen,\n",
    "                                                          validation_steps=val_steps)\n",
    "\n",
    "modelTEMPDropoutGRU.save(models_dir + 'TEMP-DropoutGRU.h5')"
   ]
  },
  {
   "cell_type": "code",
   "execution_count": null,
   "metadata": {},
   "outputs": [],
   "source": [
    "lossTEMPDropoutGRU = historyTEMPDropoutGRU.history['loss']\n",
    "val_lossTEMPDropoutGRU = historyTEMPDropoutGRU.history['val_loss']\n",
    "\n",
    "PlotLossComparison(lossTEMPDropoutGRU, val_lossTEMPDropoutGRU, lab = 'TEMP-DropoutGRU')"
   ]
  },
  {
   "cell_type": "code",
   "execution_count": null,
   "metadata": {},
   "outputs": [],
   "source": [
    "PlotTwoLossComparison(lossTEMPGRU[:epochs], val_lossTEMPGRU[:epochs], lossTEMPDropoutGRU[:epochs], val_lossTEMPDropoutGRU[:epochs], lab1 = 'TEMP-GRU', lab2 = 'TEMP-DropoutGRU')"
   ]
  },
  {
   "cell_type": "markdown",
   "metadata": {},
   "source": [
    "The validation loss was stabilized but there is still a big variance, so maybe this model should be trained longer because the validation loss is decreasing, as well as overfitting."
   ]
  },
  {
   "cell_type": "markdown",
   "metadata": {},
   "source": [
    "## Stacking recurrent layers\n",
    "\n",
    "Since we are no longer overfitting yet we seem to have hit a performance bottleneck, we should start considering increasing the capacity of our network. It is a generally a good idea to increase the capacity of your network until overfitting becomes your primary obstacle (assuming that you are already taking basic steps to mitigate overfitting, such as using dropout). As long as you are not overfitting too badly, then you are likely under-capacity (underfitting).\n",
    "\n",
    "Increasing network capacity is typically done by increasing the number of units in the layers, or adding more layers. Recurrent layer stacking is a classic way to build more powerful recurrent networks: for instance, what currently powers the Google translate algorithm is a stack of seven large LSTM layers - that's huge.\n",
    "\n",
    "To stack recurrent layers on top of each other in Keras, all intermediate layers should return their full sequence of outputs (a 3D tensor) rather than their output at the last timestep because we need them to feed to the next recurrent layer as an input. This is done by specifying `return_sequences=True`: "
   ]
  },
  {
   "cell_type": "code",
   "execution_count": null,
   "metadata": {},
   "outputs": [],
   "source": [
    "from keras.models import Sequential\n",
    "from keras import layers\n",
    "#from keras.optimizers import RMSprop\n",
    "import tensorflow\n",
    "from tensorflow.keras.optimizers import RMSprop\n",
    "\n",
    "modelTEMPDropout2xGRU = Sequential()\n",
    "modelTEMPDropout2xGRU.add(layers.GRU(64,\n",
    "                          dropout=0.05,\n",
    "                          recurrent_dropout=0.05,\n",
    "                          return_sequences=True,\n",
    "                          input_shape=(None, float_data.shape[-1]),\n",
    "                          kernel_regularizer=regularizers.l2(0.001))) #32\n",
    "modelTEMPDropout2xGRU.add(layers.GRU(32,\n",
    "                          dropout=0.05,\n",
    "                          recurrent_dropout=0.05,\n",
    "                          return_sequences=True,\n",
    "                          input_shape=(None, float_data.shape[-1]),\n",
    "                          kernel_regularizer=regularizers.l2(0.001))) #32 added\n",
    "modelTEMPDropout2xGRU.add(layers.GRU(16,\n",
    "                                     activation='relu',\n",
    "                                     dropout=0.05, \n",
    "                                     recurrent_dropout=0.05,\n",
    "                                     kernel_regularizer=regularizers.l2(0.001))) #32\n",
    "#modelTEMPDropout2xGRU.add(layers.Dropout(0.125)) #+\n",
    "modelTEMPDropout2xGRU.add(layers.Dense(8, activation='relu')) #added (36%/40ep)\n",
    "modelTEMPDropout2xGRU.add(layers.Dense(1))\n",
    "\n",
    "modelTEMPDropout2xGRU.compile(optimizer=RMSprop(), loss='mae')\n",
    "#historyTEMPDropout2xGRU = modelTEMPDropout2xGRU.fit_generator(train_gen,\n",
    "historyTEMPDropout2xGRU = modelTEMPDropout2xGRU.fit(train_gen,\n",
    "                                                              steps_per_epoch=500,\n",
    "                                                              epochs=epochs,\n",
    "                                                              validation_data=val_gen,\n",
    "                                                              validation_steps=val_steps)\n",
    "\n",
    "modelTEMPDropout2xGRU.save(models_dir + 'TEMP-Dropout2xGRU.h5')"
   ]
  },
  {
   "cell_type": "markdown",
   "metadata": {},
   "source": [
    "Let's take a look at our results:"
   ]
  },
  {
   "cell_type": "code",
   "execution_count": null,
   "metadata": {},
   "outputs": [],
   "source": [
    "lossTEMPDropout2xGRU = historyTEMPDropout2xGRU.history['loss']\n",
    "val_lossTEMPDropout2xGRU = historyTEMPDropout2xGRU.history['val_loss']\n",
    "\n",
    "PlotLossComparison(lossTEMPDropout2xGRU, val_lossTEMPDropout2xGRU, lab = 'TEMP-Dropout2xGRU')"
   ]
  },
  {
   "cell_type": "code",
   "execution_count": null,
   "metadata": {},
   "outputs": [],
   "source": [
    "PlotTwoLossComparison(lossTEMPDropoutGRU[:epochs], val_lossTEMPDropoutGRU[:epochs], lossTEMPDropout2xGRU[:epochs], val_lossTEMPDropout2xGRU[:epochs], lab1 = 'TEMP-DropoutGRU', lab2 = 'TEMP-Dropout2xGRU')"
   ]
  },
  {
   "cell_type": "markdown",
   "metadata": {},
   "source": [
    "We can see that the addition of an extra recurrent layer combined with dropout improved ours results a lot. Surprisingly, the validation loss is even lower than the training loss, but such a strange effect can be achieved when using a dropout that is implemented only during the training, not when validating. It is just our best result, much below the baseline."
   ]
  },
  {
   "cell_type": "markdown",
   "metadata": {},
   "source": [
    "## Using bidirectional RNNs\n",
    "\n",
    "The last technique that we will introduce in this section is called __bidirectional RNNs__. A bidirectional RNN is a common RNN variant which can offer higher performance than a regular RNN on certain tasks. It is frequently used in natural language processing - you could call it the Swiss army knife of deep learning for NLP.\n",
    "\n",
    "RNNs are notably order-dependent, or time-dependent: they process the timesteps of their input sequences in order, and shuffling or reversing the timesteps can completely change the representations that the RNN will extract from the sequence. This is precisely the reason why they perform well on problems where order is meaningful, such as our temperature forecasting problem. A bidirectional RNN exploits the order-sensitivity of RNNs: it simply consists of two regular RNNs, such as the GRU or LSTM layers that you are already familiar with, each processing input sequence in one direction (chronologically and antichronologically), then merging their representations. By processing a sequence both way, a bidirectional RNN is able to catch patterns that may have been overlooked by a one-direction RNN.\n",
    "\n",
    "Remarkably, the fact that the RNN layers in this section have so far processed sequences in chronological order (older timesteps first) may have been an arbitrary decision. At least, it's a decision we made no attempt at questioning so far. Could it be that our RNNs could have performed well enough if it were processing input sequences in antichronological order, for instance (newer timesteps first)? Let's try this in practice and see what we get. All we need to do is write a variant of our data generator, where the input sequences get reverted along the time dimension (replace the last line with `yield samples[:, ::-1, :], targets`). Training the same one-GRU-layer network as we used in the first experiment in this section, we get the following results:"
   ]
  },
  {
   "cell_type": "code",
   "execution_count": null,
   "metadata": {},
   "outputs": [],
   "source": [
    "def reverse_order_generator(data, lookback, delay, min_index, max_index, shuffle=False, batch_size=128, step=6):\n",
    "    if max_index is None:\n",
    "        max_index = len(data) - delay - 1\n",
    "    i = min_index + lookback\n",
    "    while 1:\n",
    "        if shuffle:\n",
    "            rows = np.random.randint(min_index + lookback, max_index, size=batch_size)\n",
    "        else:\n",
    "            if i + batch_size >= max_index:\n",
    "                i = min_index + lookback\n",
    "            rows = np.arange(i, min(i + batch_size, max_index))\n",
    "            i += len(rows)\n",
    "\n",
    "        samples = np.zeros((len(rows), lookback // step, data.shape[-1]))\n",
    "        targets = np.zeros((len(rows),))\n",
    "        for j, row in enumerate(rows):\n",
    "            indices = range(rows[j] - lookback, rows[j], step)\n",
    "            samples[j] = data[indices]\n",
    "            targets[j] = data[rows[j] + delay][1]\n",
    "        yield samples[:, ::-1, :], targets\n",
    "        \n",
    "train_gen_reverse = reverse_order_generator(\n",
    "    float_data,\n",
    "    lookback=lookback,\n",
    "    delay=delay,\n",
    "    min_index=0,\n",
    "    max_index=200000,\n",
    "    shuffle=True,\n",
    "    step=step, \n",
    "    batch_size=batch_size)\n",
    "val_gen_reverse = reverse_order_generator(\n",
    "    float_data,\n",
    "    lookback=lookback,\n",
    "    delay=delay,\n",
    "    min_index=200001,\n",
    "    max_index=300000,\n",
    "    step=step,\n",
    "    batch_size=batch_size)"
   ]
  },
  {
   "cell_type": "code",
   "execution_count": null,
   "metadata": {},
   "outputs": [],
   "source": [
    "modelTEMPReverseGRU = Sequential()\n",
    "modelTEMPReverseGRU.add(layers.GRU(64, input_shape=(None, float_data.shape[-1]),\n",
    "                                  kernel_regularizer=regularizers.l2(0.001))) #32\n",
    "#modelTEMPReverseGRU.add(layers.Dropout(0.125)) #+\n",
    "modelTEMPReverseGRU.add(layers.Dense(8, activation='relu')) #added (41%/20ep)\n",
    "modelTEMPReverseGRU.add(layers.Dense(1))\n",
    "\n",
    "modelTEMPReverseGRU.compile(optimizer=RMSprop(), loss='mae')\n",
    "#historyTEMPReverseGRU = modelTEMPReverseGRU.fit_generator(train_gen_reverse,\n",
    "historyTEMPReverseGRU = modelTEMPReverseGRU.fit(train_gen_reverse,\n",
    "                                                          steps_per_epoch=500,\n",
    "                                                          epochs=epochs,\n",
    "                                                          validation_data=val_gen_reverse,\n",
    "                                                          validation_steps=val_steps)\n",
    "\n",
    "modelTEMPReverseGRU.save(models_dir + 'TEMP-ReverseGRU.h5')"
   ]
  },
  {
   "cell_type": "code",
   "execution_count": null,
   "metadata": {},
   "outputs": [],
   "source": [
    "lossTEMPReverseGRU = historyTEMPReverseGRU.history['loss']\n",
    "val_lossTEMPReverseGRU = historyTEMPReverseGRU.history['val_loss']\n",
    "\n",
    "PlotLossComparison(lossTEMPReverseGRU, val_lossTEMPReverseGRU, lab = 'TEMP-ReverseGRU')"
   ]
  },
  {
   "cell_type": "code",
   "execution_count": null,
   "metadata": {},
   "outputs": [],
   "source": [
    "PlotTwoLossComparison(lossTEMPGRU[:epochs], val_lossTEMPGRU[:epochs], lossTEMPReverseGRU[:epochs], val_lossTEMPReverseGRU[:epochs], lab1 = 'TEMP-GRU', lab2 = 'TEMP-ReverseGRU')"
   ]
  },
  {
   "cell_type": "code",
   "execution_count": null,
   "metadata": {},
   "outputs": [],
   "source": [
    "PlotTwoLossComparison(lossTEMPDropoutGRU[:epochs], val_lossTEMPDropoutGRU[:epochs], lossTEMPReverseGRU[:epochs], val_lossTEMPReverseGRU[:epochs], lab1 = 'TEMP-DropoutGRU', lab2 = 'TEMP-ReverseGRU')"
   ]
  },
  {
   "cell_type": "code",
   "execution_count": null,
   "metadata": {},
   "outputs": [],
   "source": [
    "PlotTwoLossComparison(lossTEMPDropout2xGRU[:epochs], val_lossTEMPDropout2xGRU[:epochs], lossTEMPReverseGRU[:epochs], val_lossTEMPReverseGRU[:epochs], lab1 = 'TEMP-Dropout2xGRU', lab2 = 'TEMP-ReverseGRU')"
   ]
  },
  {
   "cell_type": "markdown",
   "metadata": {},
   "source": [
    "So the reversed-order GRU strongly underperforms even the common-sense baseline, indicating that the in our case chronological processing is very important to the success of our approach. This makes perfect sense: the underlying GRU layer will typically be better at remembering the recent past than the distant past, and naturally the more recent weather data points are more predictive than older data points in our problem (that's precisely what makes the common-sense baseline a fairly strong baseline). Thus, the chronological version of the layer is bound to outperform the reversed-order version. Importantly, this is generally not true for many other problems, including natural language: intuitively, the importance of a word in understanding a sentence is not usually dependent on its position in the sentence. Let's try the same trick on the LSTM to the IMDB data:"
   ]
  },
  {
   "cell_type": "code",
   "execution_count": null,
   "metadata": {},
   "outputs": [],
   "source": [
    "from keras.datasets import imdb\n",
    "from keras.preprocessing import sequence\n",
    "from keras import layers\n",
    "from keras.models import Sequential\n",
    "\n",
    "# Number of words to consider as features\n",
    "max_features = 10000\n",
    "# Cut texts after this number of words (among top max_features most common words)\n",
    "maxlen = 500\n",
    "\n",
    "# Load data\n",
    "(x_train, y_train), (x_test, y_test) = imdb.load_data(num_words=max_features)\n",
    "\n",
    "# Reverse sequences\n",
    "x_train = [x[::-1] for x in x_train]\n",
    "x_test = [x[::-1] for x in x_test]\n",
    "\n",
    "# Pad sequences\n",
    "x_train = sequence.pad_sequences(x_train, maxlen=maxlen)\n",
    "x_test = sequence.pad_sequences(x_test, maxlen=maxlen)\n",
    "\n",
    "modelIMDBReverseLSTM = Sequential()\n",
    "modelIMDBReverseLSTM.add(layers.Embedding(max_features, 128))\n",
    "modelIMDBReverseLSTM.add(layers.LSTM(64, kernel_regularizer=regularizers.l2(0.001))) #32\n",
    "#modelIMDBReverseLSTM.add(layers.Dropout(0.125)) #+\n",
    "modelIMDBReverseLSTM.add(layers.Dense(8, activation='relu')) #added (83%/20ep)\n",
    "modelIMDBReverseLSTM.add(layers.Dense(1, activation='sigmoid'))\n",
    "\n",
    "modelIMDBReverseLSTM.compile(optimizer='rmsprop',\n",
    "                             loss='binary_crossentropy',\n",
    "                             metrics=['acc'])\n",
    "historyIMDBReverseLSTM = modelIMDBReverseLSTM.fit(x_train, y_train,\n",
    "                                                  epochs=epochs,\n",
    "                                                  batch_size=128,\n",
    "                                                  validation_split=0.2)\n",
    "\n",
    "modelIMDBReverseLSTM.save(models_dir + 'IMDB-ReverseLSTM.h5')"
   ]
  },
  {
   "cell_type": "markdown",
   "metadata": {},
   "source": [
    "Let's see the results and their comparisons:"
   ]
  },
  {
   "cell_type": "code",
   "execution_count": null,
   "metadata": {},
   "outputs": [],
   "source": [
    "lossIMDBReverseLSTM = historyIMDBReverseLSTM.history['loss']\n",
    "val_lossIMDBReverseLSTM = historyIMDBReverseLSTM.history['val_loss']\n",
    "\n",
    "PlotLossComparison(lossIMDBReverseLSTM, val_lossIMDBReverseLSTM, lab = 'LSTM')"
   ]
  },
  {
   "cell_type": "code",
   "execution_count": null,
   "metadata": {},
   "outputs": [],
   "source": [
    "PlotTwoLossComparison(lossIMDBLSTM[:epochs], val_lossIMDBLSTM[:epochs], lossIMDBReverseLSTM[:epochs], val_lossIMDBReverseLSTM[:epochs], lab1 = 'IMDB-LSTM', lab2 = 'IMDB-ReverseLSTM')"
   ]
  },
  {
   "cell_type": "markdown",
   "metadata": {},
   "source": [
    "\n",
    "We get near-identical performance as the chronological-order LSTM we tried in the previous section.\n",
    "\n",
    "Thus, remarkably, on such a text dataset, reversed-order processing works just as well as chronological processing, confirming our hypothesis that, albeit word order *does* matter in understanding language, *which* order you use isn't crucial. Importantly, a RNN trained on reversed sequences will learn different representations than one trained on the original sequences (in natural order), in much the same way that you would have quite different mental models if time flowed backwards in the real world - if you lived a life where you died on your first day and you were born on your last day. In machine learning, representations that are *different* yet *useful* are always worth exploiting, and the more they differ the better: they offer a new angle from which to look at your data, capturing aspects of the data that were missed by other approaches, and thus they can allow to boost performance on a task. This is the intuition behind __ensembling__, a concept that we will introduce soon.\n",
    "\n",
    "A __bidirectional RNN__ exploits this idea to improve upon the performance of a chronological-order RNN: it looks at its inputs sequence both ways, obtaining potentially richer representations and capturing patterns that may have been missed by the chronological-order version alone."
   ]
  },
  {
   "cell_type": "markdown",
   "metadata": {},
   "source": [
    "![bidirectional rnn](http://home.agh.edu.pl/~horzyk/lectures/jupyternotebooks/images/MergingOfRNNs.png)"
   ]
  },
  {
   "cell_type": "markdown",
   "metadata": {},
   "source": [
    "To instantiate a bidirectional RNN in Keras, one would use the `Bidirectional` layer, which takes as first argument a recurrent layer \n",
    "instance. `Bidirectional` will create a second, separate instance of this recurrent layer, and will use one instance for processing the \n",
    "input sequences in chronological order and the other instance for processing the input sequences in reversed order. Let's try it on the \n",
    "IMDB sentiment analysis task:"
   ]
  },
  {
   "cell_type": "code",
   "execution_count": null,
   "metadata": {},
   "outputs": [],
   "source": [
    "from keras import backend as K\n",
    "K.clear_session()"
   ]
  },
  {
   "cell_type": "code",
   "execution_count": null,
   "metadata": {},
   "outputs": [],
   "source": [
    "modelIMDBBidirectLSTM = Sequential()\n",
    "modelIMDBBidirectLSTM.add(layers.Embedding(max_features, 64))#64\n",
    "modelIMDBBidirectLSTM.add(layers.Bidirectional(layers.LSTM(64, kernel_regularizer=regularizers.l2(0.001)),\n",
    "                                              input_shape=(None, float_data.shape[-1])))\n",
    "#modelIMDBBidirectLSTM.add(layers.Dropout(0.125)) #+\n",
    "modelIMDBBidirectLSTM.add(layers.Dense(8, activation='relu')) #added (87%/20ep)\n",
    "modelIMDBBidirectLSTM.add(layers.Dense(1, activation='sigmoid'))\n",
    "\n",
    "modelIMDBBidirectLSTM.compile(optimizer='rmsprop', loss='binary_crossentropy', metrics=['acc'])\n",
    "historyIMDBBidirectLSTM = modelIMDBBidirectLSTM.fit(x_train, y_train, epochs=epochs, batch_size=128, validation_split=0.2)\n",
    "\n",
    "modelIMDBBidirectLSTM.save(models_dir + 'IMDB-BidirectLSTM.h5')"
   ]
  },
  {
   "cell_type": "code",
   "execution_count": null,
   "metadata": {},
   "outputs": [],
   "source": [
    "lossIMDBBidirectLSTM = historyIMDBBidirectLSTM.history['loss']\n",
    "val_lossIMDBBidirectLSTM = historyIMDBBidirectLSTM.history['val_loss']\n",
    "\n",
    "PlotLossComparison(lossIMDBBidirectLSTM, val_lossIMDBBidirectLSTM, lab = 'BidirectLSTM')"
   ]
  },
  {
   "cell_type": "code",
   "execution_count": null,
   "metadata": {},
   "outputs": [],
   "source": [
    "PlotTwoLossComparison(lossIMDBLSTM[:epochs], val_lossIMDBLSTM[:epochs], lossIMDBBidirectLSTM[:epochs], val_lossIMDBBidirectLSTM[:epochs], lab1 = 'IMDB-LSTM', lab2 = 'IMDB-BidirectLSTM')"
   ]
  },
  {
   "cell_type": "code",
   "execution_count": null,
   "metadata": {},
   "outputs": [],
   "source": [
    "PlotTwoLossComparison(lossIMDBReverseLSTM[:epochs], val_lossIMDBReverseLSTM[:epochs], lossIMDBBidirectLSTM[:epochs], val_lossIMDBBidirectLSTM[:epochs], lab1 = 'IMDB-ReverseLSTM', lab2 = 'IMDB-BidirectLSTM')"
   ]
  },
  {
   "cell_type": "markdown",
   "metadata": {},
   "source": [
    "It performs similarly to the regular LSTM we tried previously, going above ~88% validation accuracy. It also seems to overfit faster, which is unsurprising since a bidirectional layer has twice more parameters than a chronological LSTM. With some regularization, the bidirectional approach would likely be a strong performer on this task.\n",
    "\n",
    "Now let's try the same approach on the weather prediction task:"
   ]
  },
  {
   "cell_type": "code",
   "execution_count": null,
   "metadata": {},
   "outputs": [],
   "source": [
    "from keras.models import Sequential\n",
    "from keras import layers\n",
    "#from keras.optimizers import RMSprop\n",
    "import tensorflow\n",
    "from tensorflow.keras.optimizers import RMSprop\n",
    "\n",
    "modelTEMPBidirectGRU = Sequential()\n",
    "modelTEMPBidirectGRU.add(layers.Bidirectional(layers.GRU(64, kernel_regularizer=regularizers.l2(0.001)),\n",
    "                                              input_shape=(None, float_data.shape[-1])))\n",
    "#modelTEMPBidirectGRU.add(layers.Dropout(0.125)) #+\n",
    "modelTEMPBidirectGRU.add(layers.Dense(8, activation='relu')) #added (36%/40ep)\n",
    "modelTEMPBidirectGRU.add(layers.Dense(1))\n",
    "\n",
    "modelTEMPBidirectGRU.compile(optimizer=RMSprop(), loss='mae')\n",
    "#historyTEMPBidirectGRU = modelTEMPBidirectGRU.fit_generator(train_gen,\n",
    "historyTEMPBidirectGRU = modelTEMPBidirectGRU.fit(train_gen,\n",
    "                                                            steps_per_epoch=500,\n",
    "                                                            epochs=epochs,\n",
    "                                                            validation_data=val_gen,\n",
    "                                                            validation_steps=val_steps)\n",
    "\n",
    "modelTEMPBidirectGRU.save(models_dir + 'TEMP-BidirectGRU.h5')"
   ]
  },
  {
   "cell_type": "code",
   "execution_count": null,
   "metadata": {},
   "outputs": [],
   "source": [
    "lossTEMPBidirectGRU = historyTEMPBidirectGRU.history['loss']\n",
    "val_lossTEMPBidirectGRU = historyTEMPBidirectGRU.history['val_loss']\n",
    "\n",
    "PlotLossComparison(lossTEMPBidirectGRU, val_lossTEMPBidirectGRU, lab = 'TEMP-BidirectGRU')"
   ]
  },
  {
   "cell_type": "code",
   "execution_count": null,
   "metadata": {},
   "outputs": [],
   "source": [
    "PlotTwoLossComparison(lossTEMPGRU[:epochs], val_lossTEMPGRU[:epochs], lossTEMPBidirectGRU[:epochs], val_lossTEMPBidirectGRU[:epochs], lab1 = 'TEMP-GRU', lab2 = 'TEMP-BidirectGRU')"
   ]
  },
  {
   "cell_type": "code",
   "execution_count": null,
   "metadata": {},
   "outputs": [],
   "source": [
    "PlotTwoLossComparison(lossTEMPDropoutGRU[:epochs], val_lossTEMPDropoutGRU[:epochs], lossTEMPBidirectGRU[:epochs], val_lossTEMPBidirectGRU[:epochs], lab1 = 'TEMP-DropoutGRU', lab2 = 'TEMP-BidirectGRU')"
   ]
  },
  {
   "cell_type": "code",
   "execution_count": null,
   "metadata": {},
   "outputs": [],
   "source": [
    "PlotTwoLossComparison(lossTEMPReverseGRU[:epochs], val_lossTEMPReverseGRU[:epochs], lossTEMPBidirectGRU[:epochs], val_lossTEMPBidirectGRU[:epochs], lab1 = 'TEMP-ReverseGRU', lab2 = 'TEMP-BidirectGRU')"
   ]
  },
  {
   "cell_type": "markdown",
   "metadata": {},
   "source": [
    "\n",
    "It performs much better than the reverse GRU layer or the dropout GRU layer. It's easy to understand why: all of the predictive capacity must be coming from the chronological half of the network, since the anti-chronological half is known to be severely underperforming on this task (again, because the recent past matters much more than the distant past in this case)."
   ]
  },
  {
   "cell_type": "markdown",
   "metadata": {},
   "source": [
    "Now, let's try to do the same using bidirect LSTM."
   ]
  },
  {
   "cell_type": "code",
   "execution_count": null,
   "metadata": {},
   "outputs": [],
   "source": [
    "from keras.models import Sequential\n",
    "from keras import layers\n",
    "#from keras.optimizers import RMSprop\n",
    "import tensorflow\n",
    "from tensorflow.keras.optimizers import RMSprop\n",
    "\n",
    "\n",
    "modelTEMPBidirectLSTM = Sequential()\n",
    "modelTEMPBidirectLSTM.add(layers.Bidirectional(layers.LSTM(64, kernel_regularizer=regularizers.l2(0.001)),#32\n",
    "                                              input_shape=(None, float_data.shape[-1])))\n",
    "#modelTEMPBidirectLSTM.add(layers.Dropout(0.125)) #+\n",
    "modelTEMPBidirectLSTM.add(layers.Dense(8, activation='relu')) #added (36%/40ep)\n",
    "modelTEMPBidirectLSTM.add(layers.Dense(1))\n",
    "\n",
    "modelTEMPBidirectLSTM.compile(optimizer=RMSprop(), loss='mae')\n",
    "\n",
    "#historyTEMPBidirectLSTM = modelTEMPBidirectLSTM.fit_generator(train_gen,\n",
    "historyTEMPBidirectLSTM = modelTEMPBidirectLSTM.fit(train_gen,\n",
    "                                                            steps_per_epoch=500,\n",
    "                                                            epochs=epochs,\n",
    "                                                            validation_data=val_gen,\n",
    "                                                            validation_steps=val_steps)\n",
    "\n",
    "modelTEMPBidirectLSTM.save(models_dir + 'TEMP-BidirectLSTM.h5')"
   ]
  },
  {
   "cell_type": "code",
   "execution_count": null,
   "metadata": {},
   "outputs": [],
   "source": [
    "lossTEMPBidirectLSTM = historyTEMPBidirectLSTM.history['loss']\n",
    "val_lossTEMPBidirectLSTM = historyTEMPBidirectLSTM.history['val_loss']\n",
    "\n",
    "PlotLossComparison(lossTEMPBidirectLSTM, val_lossTEMPBidirectLSTM, lab = 'TEMP-BidirectLSTM')"
   ]
  },
  {
   "cell_type": "code",
   "execution_count": null,
   "metadata": {},
   "outputs": [],
   "source": [
    "PlotTwoLossComparison(lossTEMPBidirectGRU[:epochs], val_lossTEMPBidirectGRU[:epochs], lossTEMPBidirectLSTM[:epochs], val_lossTEMPBidirectLSTM[:epochs], lab1 = 'TEMP-BidirectGRU', lab2 = 'TEMP-BidirectLSTM')"
   ]
  },
  {
   "cell_type": "markdown",
   "metadata": {},
   "source": [
    "In this case, the bidirect LSTM got the same results than the bidirect GRU for the same set of hyperparameters, but it might be the question of searching for a better set of hyperparameters. We used very limited number of training examples, so we cannot expect marvalous results, but we need to use more training data to achieve better results. The variance of this training process stabilized at a specific level, so maybe we cannot achieve better results for this limited-size dataset? This might be your assignment, so it might be the task for you to play further with these models in the following assignments :)"
   ]
  },
  {
   "cell_type": "markdown",
   "metadata": {},
   "source": [
    "Let's use bidirect CuDNNLSTM to see possible change in results."
   ]
  },
  {
   "cell_type": "code",
   "execution_count": null,
   "metadata": {},
   "outputs": [],
   "source": [
    "from keras.layers import CuDNNLSTM"
   ]
  },
  {
   "cell_type": "code",
   "execution_count": null,
   "metadata": {},
   "outputs": [],
   "source": [
    "from keras.models import Sequential\n",
    "from keras import layers\n",
    "#from keras.optimizers import RMSprop\n",
    "import tensorflow\n",
    "from tensorflow.keras.optimizers import RMSprop\n",
    "\n",
    "\n",
    "modelTEMPBidirectCuDNNLSTM = Sequential()\n",
    "modelTEMPBidirectCuDNNLSTM.add(layers.Bidirectional(layers.LSTM(64, kernel_regularizer=regularizers.l2(0.001)),#32\n",
    "                                              input_shape=(None, float_data.shape[-1])))\n",
    "#modelTEMPBidirectLSTM.add(layers.Dropout(0.125)) #+\n",
    "modelTEMPBidirectCuDNNLSTM.add(layers.Dense(8, activation='relu')) #added (36%/40ep)\n",
    "modelTEMPBidirectCuDNNLSTM.add(layers.Dense(1))\n",
    "\n",
    "modelTEMPBidirectCuDNNLSTM.compile(optimizer=RMSprop(), loss='mae')\n",
    "\n",
    "#historyTEMPBidirectLSTM = modelTEMPBidirectLSTM.fit_generator(train_gen,\n",
    "historyTEMPBidirectCuDNNLSTM = modelTEMPBidirectCuDNNLSTM.fit(train_gen,\n",
    "                                                            steps_per_epoch=500,\n",
    "                                                            epochs=epochs,\n",
    "                                                            validation_data=val_gen,\n",
    "                                                            validation_steps=val_steps)\n",
    "\n",
    "modelTEMPBidirectCuDNNLSTM.save(models_dir + 'TEMP-BidirectCuDNNLSTM.h5')"
   ]
  },
  {
   "cell_type": "code",
   "execution_count": null,
   "metadata": {},
   "outputs": [],
   "source": [
    "lossTEMPBidirectCuDNNLSTM = historyTEMPBidirectCuDNNLSTM.history['loss']\n",
    "val_lossTEMPBidirectCuDNNLSTM = historyTEMPBidirectCuDNNLSTM.history['val_loss']\n",
    "\n",
    "PlotLossComparison(lossTEMPBidirectCuDNNLSTM, val_lossTEMPBidirectCuDNNLSTM, lab = 'TEMP-BidirectCuDNNLSTM')"
   ]
  },
  {
   "cell_type": "code",
   "execution_count": null,
   "metadata": {},
   "outputs": [],
   "source": [
    "PlotTwoLossComparison(lossTEMPBidirectLSTM[:epochs], val_lossTEMPBidirectLSTM[:epochs], lossTEMPBidirectCuDNNLSTM[:epochs], val_lossTEMPBidirectCuDNNLSTM[:epochs], lab1 = 'TEMP-BidirectLSTM', lab2 = 'TEMP-BidirectCuDNNLSTM')"
   ]
  },
  {
   "cell_type": "markdown",
   "metadata": {},
   "source": []
  },
  {
   "cell_type": "markdown",
   "metadata": {},
   "source": [
    "## Combining CNNs and RNNs to process long sequences\n",
    "\n",
    "Because 1D convnets process input patches independently, they are not sensitive to the order of the timesteps (beyond a local scale, the size of the convolution windows), unlike RNNs. Of course, in order to be able to recognize longer-term patterns, one could stack many convolution layers and pooling layers, resulting in upper layers that would \"see\" long chunks of the original inputs - but that's still a fairly weak way to induce order-sensitivity. One way to evidence this weakness is to try 1D convnets on the temperature forecasting problem, where __order-sensitivity was key__ to produce good predictions. Let's see that 1D convnets behave really worse than RNNs on this problem (data), so not always we can use such solutions:"
   ]
  },
  {
   "cell_type": "code",
   "execution_count": null,
   "metadata": {},
   "outputs": [],
   "source": [
    "# We reuse the following variables defined in the last section:\n",
    "# float_data, train_gen, val_gen, val_steps\n",
    "\n",
    "import os\n",
    "import numpy as np\n",
    "\n",
    "# You can download sample data from = 'http://home.agh.edu.pl/~horzyk/lectures/jupyternotebooks/data/mpi_roof_2015-2021.zip'\n",
    "data_dir = 'C:/ml/data/weather' # Unzip data and change this directory to yours\n",
    "fname = os.path.join(data_dir, 'mpi_roof_2015-2021.csv')\n",
    "\n",
    "f = open(fname)\n",
    "data = f.read()\n",
    "f.close()\n",
    "\n",
    "lines = data.split('\\n')\n",
    "header = lines[0].split(',')\n",
    "lines = lines[1:]\n",
    "print(lines[1:3])\n",
    "\n",
    "print(\"Data attribute names for this dataset are:\")\n",
    "print(header)\n",
    "print(\"Number of training examples: \", len(lines))\n",
    "\n",
    "dim = len(header) - 1\n",
    "float_data = np.zeros((len(lines), dim))\n",
    "for i, line in enumerate(lines):\n",
    "    values = [float(x) for x in line.split(',')[1:]]\n",
    "    if len(values) == 21:\n",
    "        float_data[i, :] = values\n",
    "    \n",
    "mean = float_data[:200000].mean(axis=0)\n",
    "float_data -= mean\n",
    "std = float_data[:200000].std(axis=0)\n",
    "float_data /= std\n",
    "\n",
    "def generator(data, lookback, delay, min_index, max_index, shuffle=False, batch_size=128, step=6):\n",
    "    if max_index is None:\n",
    "        max_index = len(data) - delay - 1\n",
    "    i = min_index + lookback\n",
    "    while 1:\n",
    "        if shuffle:\n",
    "            rows = np.random.randint(min_index + lookback, max_index, size=batch_size)\n",
    "        else:\n",
    "            if i + batch_size >= max_index:\n",
    "                i = min_index + lookback\n",
    "            rows = np.arange(i, min(i + batch_size, max_index))\n",
    "            i += len(rows)\n",
    "\n",
    "        samples = np.zeros((len(rows), lookback // step, data.shape[-1]))\n",
    "        targets = np.zeros((len(rows),))\n",
    "        for j, row in enumerate(rows):\n",
    "            indices = range(rows[j] - lookback, rows[j], step)\n",
    "            samples[j] = data[indices]\n",
    "            targets[j] = data[rows[j] + delay][1]\n",
    "        yield samples, targets\n",
    "        \n",
    "lookback = 1440\n",
    "step = 6\n",
    "delay = 144\n",
    "batch_size = 128\n",
    "\n",
    "train_gen = generator(float_data,\n",
    "                      lookback=lookback,\n",
    "                      delay=delay,\n",
    "                      min_index=0,\n",
    "                      max_index=200000,\n",
    "                      shuffle=True,\n",
    "                      step=step, \n",
    "                      batch_size=batch_size)\n",
    "val_gen = generator(float_data,\n",
    "                    lookback=lookback,\n",
    "                    delay=delay,\n",
    "                    min_index=200001,\n",
    "                    max_index=300000,\n",
    "                    step=step,\n",
    "                    batch_size=batch_size)\n",
    "test_gen = generator(float_data,\n",
    "                     lookback=lookback,\n",
    "                     delay=delay,\n",
    "                     min_index=300001,\n",
    "                     max_index=None,\n",
    "                     step=step,\n",
    "                     batch_size=batch_size)\n",
    "\n",
    "# This is how many steps to draw from `val_gen` in order to see the whole validation set:\n",
    "val_steps = (300000 - 200001 - lookback) // batch_size\n",
    "\n",
    "# This is how many steps to draw from `test_gen` in order to see the whole test set:\n",
    "test_steps = (len(float_data) - 300001 - lookback) // batch_size"
   ]
  },
  {
   "cell_type": "code",
   "execution_count": null,
   "metadata": {},
   "outputs": [],
   "source": [
    "from keras.models import Sequential\n",
    "from keras import layers\n",
    "from tensorflow.keras.optimizers import RMSprop\n",
    "\n",
    "modelTemp2x1DGlobalPool = Sequential()\n",
    "modelTemp2x1DGlobalPool.add(layers.Conv1D(32, 5, activation='relu',\n",
    "                        input_shape=(None, float_data.shape[-1])))\n",
    "modelTemp2x1DGlobalPool.add(layers.MaxPooling1D(3))\n",
    "modelTemp2x1DGlobalPool.add(layers.Conv1D(32, 5, activation='relu'))\n",
    "modelTemp2x1DGlobalPool.add(layers.MaxPooling1D(3))\n",
    "modelTemp2x1DGlobalPool.add(layers.Conv1D(32, 5, activation='relu'))\n",
    "modelTemp2x1DGlobalPool.add(layers.GlobalMaxPooling1D())\n",
    "modelTemp2x1DGlobalPool.add(layers.Dense(1))\n",
    "\n",
    "modelTemp2x1DGlobalPool.compile(optimizer=RMSprop(), loss='mae')\n",
    "\n",
    "historyTemp2x1DGlobalPool = modelTemp2x1DGlobalPool.fit(train_gen,\n",
    "                              steps_per_epoch=500,\n",
    "                              epochs=20,\n",
    "                              validation_data=val_gen,\n",
    "                              validation_steps=val_steps)\n",
    "\n",
    "\n",
    "modelTemp2x1DGlobalPool.save(models_dir + 'Temp-2x1DGlobalPool.h5')"
   ]
  },
  {
   "cell_type": "markdown",
   "metadata": {},
   "source": [
    "Here are our training and validation Mean Absolute Errors:"
   ]
  },
  {
   "cell_type": "code",
   "execution_count": null,
   "metadata": {},
   "outputs": [],
   "source": [
    "lossTemp2x1DGlobalPool = historyTemp2x1DGlobalPool.history['loss']\n",
    "val_lossTemp2x1DGlobalPool = historyTemp2x1DGlobalPool.history['val_loss']\n",
    "\n",
    "PlotLossComparison(lossTemp2x1DGlobalPool, val_lossTemp2x1DGlobalPool, lab = 'Temp-2x1DGlobalPool')"
   ]
  },
  {
   "cell_type": "markdown",
   "metadata": {},
   "source": [
    "As expected, the validation MAE stays in the low 0.40s. We cannot even beat our common-sense baseline using this small convnet. Again, this is because our convnet looks for patterns anywhere in the input timeseries, and has no knowledge of the temporal position of a pattern it sees (e.g. towards the beginning, towards the end). Since more recent datapoints should be interpreted differently from older datapoints in the case of this specific forecasting problem, the convnet fails at producing meaningful results here. This limitation of convnets was not an issue on IMDB because patterns of keywords that are associated with a positive or a negative sentiment will be informative independently of where they are found in the input sentences.\n",
    "\n",
    "One strategy to combine the speed and lightness of convnets with the order-sensitivity of RNNs is to use a 1D convnet as a preprocessing step before a RNN. This is especially beneficial when dealing with very long sequences (e.g. with thousands of steps) that could not realistically be processed with RNNs. The convnet will turn the long input sequence into much shorter (downsampled) sequences of higher-level features. This sequence of extracted features then becomes the input to the RNN (e.g. GRU or LSTM) part of the network.\n",
    "\n",
    "This technique (1D convnet + RNN) is not seen very often in research papers and practical applications possibly because it is not very well known. It is very effective and ought to be more common. Let's try this out on the temperature forecasting dataset. Because this strategy allows us to manipulate much longer sequences, we could either look at data from further back (by increasing the `lookback` parameter of the data generator) or look at high-resolution time-series (by decreasing the `step` parameter of the generator). Here, we will choose (somewhat arbitrarily) to use a `step` twice smaller, resulting in twice longer time-series, where the weather data is being sampled at a rate of one point per 30 minutes."
   ]
  },
  {
   "cell_type": "code",
   "execution_count": null,
   "metadata": {},
   "outputs": [],
   "source": [
    "# This was previously set to 6 (one point per hour), now 3 (one point per 30 min).\n",
    "step = 3\n",
    "lookback = 720  # Unchanged\n",
    "delay = 144 # Unchanged\n",
    "\n",
    "train_gen = generator(float_data,\n",
    "                      lookback=lookback,\n",
    "                      delay=delay,\n",
    "                      min_index=0,\n",
    "                      max_index=200000,\n",
    "                      shuffle=True,\n",
    "                      step=step)\n",
    "val_gen = generator(float_data,\n",
    "                    lookback=lookback,\n",
    "                    delay=delay,\n",
    "                    min_index=200001,\n",
    "                    max_index=300000,\n",
    "                    step=step)\n",
    "test_gen = generator(float_data,\n",
    "                     lookback=lookback,\n",
    "                     delay=delay,\n",
    "                     min_index=300001,\n",
    "                     max_index=None,\n",
    "                     step=step)\n",
    "val_steps = (300000 - 200001 - lookback) // 128\n",
    "test_steps = (len(float_data) - 300001 - lookback) // 128"
   ]
  },
  {
   "cell_type": "markdown",
   "metadata": {},
   "source": [
    "This is our model, starting with two `Conv1D` layers and following-up with a `GRU` layer:"
   ]
  },
  {
   "cell_type": "code",
   "execution_count": null,
   "metadata": {},
   "outputs": [],
   "source": [
    "modelTemp2x1DGRU = Sequential()\n",
    "modelTemp2x1DGRU.add(layers.Conv1D(32, 5, activation='relu',\n",
    "                     input_shape=(None, float_data.shape[-1])))\n",
    "modelTemp2x1DGRU.add(layers.MaxPooling1D(3))\n",
    "modelTemp2x1DGRU.add(layers.Conv1D(32, 5, activation='relu'))\n",
    "modelTemp2x1DGRU.add(layers.GRU(32, dropout=0.05, recurrent_dropout=0.05))\n",
    "modelTemp2x1DGRU.add(layers.Dense(1))\n",
    "\n",
    "modelTemp2x1DGRU.summary()\n",
    "\n",
    "modelTemp2x1DGRU.compile(optimizer=RMSprop(), loss='mae')\n",
    "historyTemp2x1DGRU = modelTemp2x1DGRU.fit(train_gen,\n",
    "                              steps_per_epoch=500,\n",
    "                              epochs=20,\n",
    "                              validation_data=val_gen,\n",
    "                              validation_steps=val_steps)\n",
    "\n",
    "modelTemp2x1DGRU.save(models_dir + 'Temp-2x1DGRU.h5')"
   ]
  },
  {
   "cell_type": "code",
   "execution_count": null,
   "metadata": {},
   "outputs": [],
   "source": [
    "lossTemp2x1DGRU = historyTemp2x1DGRU.history['loss']\n",
    "val_lossTemp2x1DGRU = historyTemp2x1DGRU.history['val_loss']\n",
    "\n",
    "PlotLossComparison(lossTemp2x1DGRU, val_lossTemp2x1DGRU, lab = 'Temp-2x1DGRU')\n",
    "\n",
    "PlotTwoLossComparison(lossTemp2x1DGlobalPool, val_lossTemp2x1DGlobalPool, lossTemp2x1DGRU, val_lossTemp2x1DGRU, lab1 = 'Temp-2x1DGlobalPool', lab2 = 'Temp-2x1DGRU')"
   ]
  },
  {
   "cell_type": "markdown",
   "metadata": {},
   "source": [
    "Judging from the validation loss, this setup is not quite as good as the regularized GRU alone, but it's significantly faster. It is looking at least at twice more data in the same time, which in this case doesn't appear to be hugely helpful, but may be important for other datasets.\n",
    "\n",
    "Let's try to apply this approach to IMDB dataset as well:"
   ]
  },
  {
   "cell_type": "code",
   "execution_count": null,
   "metadata": {},
   "outputs": [],
   "source": [
    "modelIMDB2x1DGRU = Sequential()\n",
    "modelIMDB2x1DGRU.add(layers.Embedding(max_features, 128, input_length=max_len))\n",
    "modelIMDB2x1DGRU.add(layers.Conv1D(32, 7, activation='relu'))\n",
    "modelIMDB2x1DGRU.add(layers.MaxPooling1D(5))\n",
    "modelIMDB2x1DGRU.add(layers.Conv1D(32, 7, activation='relu'))\n",
    "modelIMDB2x1DGRU.add(layers.GRU(32, dropout=0.05, recurrent_dropout=0.05))\n",
    "modelIMDB2x1DGRU.add(layers.Dense(1))\n",
    "\n",
    "modelIMDB2x1DGRU.summary()\n",
    "\n",
    "modelIMDB2x1DGRU.compile(optimizer=RMSprop(learning_rate=1e-4),\n",
    "                         loss='binary_crossentropy',\n",
    "                         metrics=['acc'])\n",
    "historyIMDB2x1DGRU = modelIMDB2x1DGRU.fit(x_train, y_train,\n",
    "                                          epochs=6, # or 7 dependently on the network initialization\n",
    "                                          batch_size=128,\n",
    "                                          validation_split=0.2)\n",
    "\n",
    "modelIMDB2x1DGRU.save(models_dir + 'IMDB_2x1DGRU.h5')"
   ]
  },
  {
   "cell_type": "code",
   "execution_count": null,
   "metadata": {},
   "outputs": [],
   "source": [
    "lossIMDB2x1DGRU = historyIMDB2x1DGRU.history['loss']\n",
    "val_lossIMDB2x1DGRU = historyIMDB2x1DGRU.history['val_loss']\n",
    "\n",
    "PlotLossComparison(lossIMDB2x1DGRU, val_lossIMDB2x1DGRU, lab = 'IMDB-2x1DGRU')\n",
    "\n",
    "lossIMDB2x1DGlobalPool2 = historyIMDB2x1DGlobalPool2.history['loss']\n",
    "val_lossIMDB2x1DGlobalPool2 = historyIMDB2x1DGlobalPool2.history['val_loss']\n",
    "\n",
    "PlotTwoLossComparison(lossIMDB2x1DGlobalPool2, val_lossIMDB2x1DGlobalPool2, lossIMDB2x1DGRU, val_lossIMDB2x1DGRU, lab1 = 'IMDB2x1DGlobalPool', lab2 = 'IMDB-2x1DGRU')"
   ]
  },
  {
   "cell_type": "markdown",
   "metadata": {},
   "source": [
    "## Wrapping up\n",
    "\n",
    "Here's what you should take away from this notebook:\n",
    "\n",
    "* In the same way that 2D convnets perform well for processing visual patterns in 2D space, 1D convnets can perform well for processing some groups of temporal patterns where the sequence is not a key feature, e.g. for sentiment classification. They offer a faster alternative to RNNs on some problems, in particular NLP tasks.\n",
    "* Typically 1D convnets are structured much like their 2D equivalents from the world of computer vision: they consist of stacks of `Conv1D` layers and `MaxPooling1D` layers, eventually ending in a global pooling operation or flattening operation.\n",
    "* Because RNNs are extremely expensive for processing very long sequences, while 1D convnets are cheap, it can be a good idea to use a 1D convnet as a preprocessing step before a RNN, shortening the sequences and extracting useful representations for the RNN to process.\n",
    "* Additionaly we can use 1D convolution with dilated kernels.\n",
    "* It is wise to first establish common sense baselines for your metric of choice. If you don't have a baseline to beat, you can't tell if you are making any real progress.\n",
    "* Try simple models before expensive ones, to justify the additional expense. Sometimes a simple model will turn out to be your best option.\n",
    "* On data where temporal ordering matters, recurrent networks are a great fit and easily outperform models that first flatten the temporal data.\n",
    "* To use dropout with recurrent networks, one should use a time-constant dropout mask and recurrent dropout mask. This is built into Keras recurrent layers, so all you have to do is use the `dropout` and `recurrent_dropout` arguments of recurrent layers.\n",
    "* Stacked RNNs provide more representational power than a single RNN layer. They are also much more expensive, and thus not always worth it. While they offer clear gains on complex problems (e.g. machine translation), they might not always be relevant to smaller, simpler problems.\n",
    "* Bidirectional RNNs, which look at a sequence both ways, are very useful on natural language processing problems. However, they will not be strong performers on sequence data where the recent past is much more informative than the beginning of the sequence.\n",
    "\n",
    "\n",
    "There are two other important concepts that we will not cover in detail here: recurrent \"attention\", and sequence masking because they are not particularly applicable to our temperature forecasting problem. However, they tend to be especially relevant for natural language processing."
   ]
  },
  {
   "cell_type": "markdown",
   "metadata": {},
   "source": [
    "## Assignments (4 points)\n",
    "\n",
    "At this stage, there are still many other things you could try in order to improve performance on our weather (temperature) forecasting problem:\n",
    "\n",
    "* Adjust the number of units in each recurrent layer in the stacked setup. Our current choices are largely arbitrary and thus likely suboptimal.\n",
    "* Adjust the learning rate used by our `RMSprop` optimizer.\n",
    "* Try using `LSTM` layers instead of `GRU` layers.\n",
    "* Try using different activation functions in layers.\n",
    "* Try using a bigger densely-connected regressor on top of the recurrent layers, i.e. a bigger `Dense` layer or even a stack of `Dense` layers.\n",
    "* Try using regularization and recurrent regularization and dropout do reduce overfitting!\n",
    "* Use the automatic search of selected hyperparameters, using e.g. from sklearn.model_selection import `GridSearchCV`.\n",
    "* Don't forget to eventually run the best performing models (in terms of validation MAE) on the test set! Least you start developing architectures that are overfitting to the validation set.   \n",
    "* Try to use more training examples from https://www.bgc-jena.mpg.de/wetter/weather_data.html, consolidating the current dataset with the data of the previous years and compare how they influence the training results.\n",
    "* Try to change and use different hyperparameters to improve the results even more. Experiment with different recurrent layers, optimizers, hyperparameters to improve the performance of your developed models.\n",
    "* Choose a different sequential data from Kaggle.com or any other source and try to find the best architecture, recurrent layers, and hyperparameters to achieve high accuracy and small loss of your model.\n",
    "* Try to train models giving a chance for good results longer (e.g. for 100 or 200 epochs instead of 20 or 40 epochs).\n",
    "\n",
    "Deep learning is still an art, not only a science, and while we can provide guidelines as to what is likely to work or not work on a given problem, ultimately every problem is unique and you will have to try and evaluate different strategies empirically. There is currently no theory that will tell you in advance precisely what you should do to optimally solve a problem. You must try and iterate."
   ]
  }
 ],
 "metadata": {
  "kernelspec": {
   "display_name": "Python 3 (ipykernel)",
   "language": "python",
   "name": "python3"
  },
  "language_info": {
   "codemirror_mode": {
    "name": "ipython",
    "version": 3
   },
   "file_extension": ".py",
   "mimetype": "text/x-python",
   "name": "python",
   "nbconvert_exporter": "python",
   "pygments_lexer": "ipython3",
   "version": "3.9.2"
  }
 },
 "nbformat": 4,
 "nbformat_minor": 2
}
